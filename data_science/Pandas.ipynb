{
 "cells": [
  {
   "attachments": {},
   "cell_type": "markdown",
   "metadata": {},
   "source": [
    "# Pandas\n",
    "Data structures in pandas\n",
    "- `Series` objects: 1D array, similar to a column in a spreadsheet\n",
    "- `DataFrame` objects: 2D table, similar to a spreadsheet\n",
    "- `Panel` objects: Dictionary of DataFrames, similar to sheet in MS Excel"
   ]
  },
  {
   "attachments": {},
   "cell_type": "markdown",
   "metadata": {},
   "source": [
    "## Series"
   ]
  },
  {
   "cell_type": "code",
   "execution_count": null,
   "metadata": {},
   "outputs": [],
   "source": [
    "import pandas as pd\n",
    "import numpy as np\n",
    "\n",
    "birthyear = pd.Series([1984, 1985, 1992])\n",
    "print(birthyear)\n",
    "print(birthyear.index)\n",
    "print()\n",
    "\n",
    "weight = pd.Series([68, 83, 112],index=[\"alice\", \"bob\", \"charles\"])\n",
    "print(weight)\n",
    "print(weight.index)"
   ]
  },
  {
   "attachments": {},
   "cell_type": "markdown",
   "metadata": {},
   "source": [
    "## DataFrame Creation\n",
    "- from dict\n",
    "- from iterables (with column names)\n",
    "- from ndarray (with colum names)"
   ]
  },
  {
   "cell_type": "code",
   "execution_count": null,
   "metadata": {},
   "outputs": [],
   "source": [
    "weight = pd.Series([68, 83, 112],index=[\"alice\", \"bob\", \"charles\"])\n",
    "birthyear = pd.Series([1984, 1985, 1992], index=[\"bob\", \"alice\", \"charles\"], name=\"year\")\n",
    "children = pd.Series([0, 3], index=[\"charles\", \"bob\"])\n",
    "hobby = pd.Series([\"Biking\", \"Dancing\"], index=[\"alice\", \"bob\"])\n",
    "\n",
    "people_dict = { \"weight\": weight,\n",
    "                \"birthyear\": birthyear,\n",
    "                \"children\": children,\n",
    "                \"hobby\": hobby}\n",
    "\n",
    "people = pd.DataFrame(people_dict)\n",
    "print(people)"
   ]
  },
  {
   "cell_type": "code",
   "execution_count": null,
   "metadata": {},
   "outputs": [],
   "source": [
    "print('shape:', people.shape)\n",
    "print(people.dtypes)\n",
    "print('index:', people.index)\n",
    "print('columns:', people.columns)"
   ]
  },
  {
   "cell_type": "code",
   "execution_count": null,
   "metadata": {},
   "outputs": [],
   "source": [
    "people['birthyear']     # extracting column --> Series"
   ]
  },
  {
   "cell_type": "code",
   "execution_count": null,
   "metadata": {},
   "outputs": [],
   "source": [
    "people['birthyear'] < 1990      # like numpy boolean array"
   ]
  },
  {
   "cell_type": "code",
   "execution_count": null,
   "metadata": {},
   "outputs": [],
   "source": [
    "old_people = people[people['birthyear'] < 1990]    # like numpy boolean array indexing\n",
    "old_people"
   ]
  },
  {
   "cell_type": "code",
   "execution_count": null,
   "metadata": {},
   "outputs": [],
   "source": [
    "people_abbr = people[['birthyear', 'weight']]   # like numpy integer array indexing\n",
    "people_abbr"
   ]
  },
  {
   "cell_type": "code",
   "execution_count": null,
   "metadata": {},
   "outputs": [],
   "source": [
    "people['weight'].mean()"
   ]
  },
  {
   "attachments": {},
   "cell_type": "markdown",
   "metadata": {},
   "source": [
    "## Data Preparation\n",
    "Can import/export data from/to csv, excel, json, and text\n",
    "### Importing data\n",
    "```Python\n",
    "df = pd.read_csv(\"diabetes.csv\")\n",
    "df = pd.read_csv(\"diabetes.txt\", sep=\"\\s\")\n",
    "df = pd.read_excel('diabetes.xlsx')\n",
    "df = pd.read_excel('diabetes_multi.xlsx', sheet_name=1) # extract 2nd sheet\n",
    "df = pd.read_json(\"diabetes.json\")\n",
    "```\n",
    "### Exporting DataFrame\n",
    "```Python\n",
    "df.to_csv(\"diabetes_out.csv\", index=False)\n",
    "df.to_csv('diabetes_out.txt', header=df.columns, index=None, sep=' ')\n",
    "df.to_excel(\"diabetes_out.xlsx\", index=False)\n",
    "df.to_json(\"diabetes_out.json\")\n",
    "```"
   ]
  },
  {
   "cell_type": "code",
   "execution_count": null,
   "metadata": {},
   "outputs": [],
   "source": [
    "df = pd.read_csv(\"diabetes.csv\")\n",
    "print(df.info())\n",
    "df.head()"
   ]
  },
  {
   "cell_type": "code",
   "execution_count": null,
   "metadata": {},
   "outputs": [],
   "source": [
    "print(list(df.columns))\n",
    "df.columns "
   ]
  },
  {
   "cell_type": "code",
   "execution_count": null,
   "metadata": {},
   "outputs": [],
   "source": [
    "df.index"
   ]
  },
  {
   "attachments": {},
   "cell_type": "markdown",
   "metadata": {},
   "source": [
    "#### Fetching rows\n",
    "- `.loc[]`: location\n",
    "- `iloc[]`: iteger location (position) "
   ]
  },
  {
   "cell_type": "code",
   "execution_count": null,
   "metadata": {},
   "outputs": [],
   "source": [
    "df.loc[1]"
   ]
  },
  {
   "cell_type": "code",
   "execution_count": null,
   "metadata": {},
   "outputs": [],
   "source": [
    "df.loc[[1, 2, 767], ['Pregnancies', 'Outcome']]"
   ]
  },
  {
   "cell_type": "code",
   "execution_count": null,
   "metadata": {},
   "outputs": [],
   "source": [
    "df.iloc[10:13, :3]    # row and column position"
   ]
  },
  {
   "attachments": {},
   "cell_type": "markdown",
   "metadata": {},
   "source": [
    "#### Conditional slicing"
   ]
  },
  {
   "cell_type": "code",
   "execution_count": null,
   "metadata": {},
   "outputs": [],
   "source": [
    "df[df.BloodPressure > 110] "
   ]
  },
  {
   "cell_type": "code",
   "execution_count": null,
   "metadata": {},
   "outputs": [],
   "source": [
    "df.loc[df['BloodPressure'] > 110, ['Pregnancies', 'Glucose', 'BloodPressure']]"
   ]
  },
  {
   "cell_type": "code",
   "execution_count": null,
   "metadata": {},
   "outputs": [],
   "source": [
    "df.describe()"
   ]
  },
  {
   "attachments": {},
   "cell_type": "markdown",
   "metadata": {},
   "source": [
    "### Dealing with missing data\n",
    "#### Checking for missing values\n",
    "값이 없거나 비정상적인 것이 없는지 체크하고 있다면 drop하거나 적절한 값을 채워 넣아야 한다.\n",
    "\n",
    "예를 들어 값이 없는 경우를 만들어 보고 이를 보완해 보자."
   ]
  },
  {
   "cell_type": "code",
   "execution_count": null,
   "metadata": {},
   "outputs": [],
   "source": [
    "df2 = df.copy()   # make a copy\n",
    "df2.loc[2:5, 'DiabetesPedigreeFunction'] = None\n",
    "df2.loc[[4, 6], 'Glucose'] = None\n",
    "df2.head(7)"
   ]
  },
  {
   "cell_type": "code",
   "execution_count": null,
   "metadata": {},
   "outputs": [],
   "source": [
    "df2.isnull().sum()    # NaN count"
   ]
  },
  {
   "attachments": {},
   "cell_type": "markdown",
   "metadata": {},
   "source": [
    "#### 1) Dropping missing values"
   ]
  },
  {
   "cell_type": "code",
   "execution_count": null,
   "metadata": {},
   "outputs": [],
   "source": [
    "df3 = df2.copy()\n",
    "df3 = df3.dropna()      # drop rows containing missing values\n",
    "# df3.dropna(inplace=True)  # do not create new DataFrame\n",
    "# df3.dropna(inplace=True, axis=1) # drop columns containing missing values\n",
    "# df3.dropna(inplace=True, how='all')   # drop both rows and columns\n",
    "df3.shape"
   ]
  },
  {
   "attachments": {},
   "cell_type": "markdown",
   "metadata": {},
   "source": [
    "#### 2) Replacing missing values\n",
    "- with average\n",
    "- with moving average (rolling mean): time series 등의 경우"
   ]
  },
  {
   "cell_type": "code",
   "execution_count": null,
   "metadata": {},
   "outputs": [],
   "source": [
    "df3 = df2.copy()\n",
    "avg = df3.DiabetesPedigreeFunction.mean()\n",
    "df3.DiabetesPedigreeFunction.fillna(avg, inplace=True)\n",
    "avg1 = df3['Glucose'].mean()\n",
    "df3['Glucose'].fillna(avg1, inplace=True)\n",
    "df3.head(7)"
   ]
  },
  {
   "attachments": {},
   "cell_type": "markdown",
   "metadata": {},
   "source": [
    "### Dealing with Duplicate Data"
   ]
  },
  {
   "cell_type": "code",
   "execution_count": null,
   "metadata": {},
   "outputs": [],
   "source": [
    "df4 = pd.concat([df, df3.loc[:10]])\n",
    "print(df4.shape)\n",
    "df4[df4.duplicated()]"
   ]
  },
  {
   "cell_type": "code",
   "execution_count": null,
   "metadata": {},
   "outputs": [],
   "source": [
    "df4.drop_duplicates(inplace=True)\n",
    "df4.shape"
   ]
  },
  {
   "attachments": {},
   "cell_type": "markdown",
   "metadata": {},
   "source": [
    "#### Renaming columns"
   ]
  },
  {
   "cell_type": "code",
   "execution_count": null,
   "metadata": {},
   "outputs": [],
   "source": [
    "df3.rename(columns = {'DiabetesPedigreeFunction':'DPF'}, inplace = True)\n",
    "df3.head()"
   ]
  },
  {
   "cell_type": "code",
   "execution_count": null,
   "metadata": {},
   "outputs": [],
   "source": [
    "df3.columns = ['임신기간', 'Glucose', '혈압', 'SkinThickness', 'Insulin', 'BMI', 'DPF', '나이', 'Outcome']\n",
    "print(df3.columns)\n",
    "df3.혈압.head()"
   ]
  },
  {
   "attachments": {},
   "cell_type": "markdown",
   "metadata": {},
   "source": [
    "## Data Anaysis\n",
    "`.mean(), .max(), .min(), .sum(), .mode(), .value_counts()` methods"
   ]
  },
  {
   "cell_type": "code",
   "execution_count": null,
   "metadata": {},
   "outputs": [],
   "source": [
    "df3['Outcome'].value_counts()"
   ]
  },
  {
   "attachments": {},
   "cell_type": "markdown",
   "metadata": {},
   "source": [
    "#### Aggregating data"
   ]
  },
  {
   "cell_type": "code",
   "execution_count": null,
   "metadata": {},
   "outputs": [],
   "source": [
    "df3.groupby('Outcome').mean()"
   ]
  },
  {
   "cell_type": "code",
   "execution_count": null,
   "metadata": {},
   "outputs": [],
   "source": [
    "df3.groupby(['임신기간', 'Outcome']).mean()"
   ]
  },
  {
   "attachments": {},
   "cell_type": "markdown",
   "metadata": {},
   "source": [
    "#### Pivoting"
   ]
  },
  {
   "cell_type": "code",
   "execution_count": null,
   "metadata": {},
   "outputs": [],
   "source": [
    "pd.pivot_table(df3, values=\"BMI\", index='임신기간', columns=['Outcome'], aggfunc=np.mean)"
   ]
  },
  {
   "attachments": {},
   "cell_type": "markdown",
   "metadata": {},
   "source": [
    "#### Correlation"
   ]
  },
  {
   "cell_type": "code",
   "execution_count": null,
   "metadata": {},
   "outputs": [],
   "source": [
    "corr = df3.corr()\n",
    "corr"
   ]
  },
  {
   "cell_type": "code",
   "execution_count": null,
   "metadata": {},
   "outputs": [],
   "source": [
    "df3[['Glucose', '혈압', 'BMI']].plot(subplots=True, figsize=(10,10))"
   ]
  },
  {
   "cell_type": "code",
   "execution_count": null,
   "metadata": {},
   "outputs": [],
   "source": [
    "df3['혈압'].hist(bins=50)"
   ]
  },
  {
   "cell_type": "code",
   "execution_count": null,
   "metadata": {},
   "outputs": [],
   "source": [
    "df3.plot.scatter(x='BMI', y='혈압')"
   ]
  },
  {
   "attachments": {},
   "cell_type": "markdown",
   "metadata": {},
   "source": [
    "### Iterate over rows"
   ]
  },
  {
   "cell_type": "code",
   "execution_count": null,
   "metadata": {},
   "outputs": [],
   "source": [
    "for index, row in df3.iterrows():\n",
    "    status = 'Yes' if row['Outcome'] else 'No'\n",
    "    print(index, status) "
   ]
  },
  {
   "attachments": {},
   "cell_type": "markdown",
   "metadata": {},
   "source": [
    "### `apply()` method\n",
    "used to apply a function along with an axis of the DataFrame\n"
   ]
  },
  {
   "cell_type": "code",
   "execution_count": null,
   "metadata": {},
   "outputs": [],
   "source": [
    "df3['Status'] = df3['Outcome'].apply(lambda x: ('No', 'Yes')[x])\n",
    "df3.head()"
   ]
  },
  {
   "cell_type": "code",
   "execution_count": null,
   "metadata": {},
   "outputs": [],
   "source": [
    "def classify(bmi):\n",
    "    if bmi < 18.5: return '저체중'\n",
    "    if bmi < 23.0: return '정상'\n",
    "    if bmi < 25.0: return '과체중'\n",
    "    return '비만'\n",
    "\n",
    "df3['비만도'] = df3['BMI'].apply(classify)\n",
    "df3.head()"
   ]
  },
  {
   "cell_type": "code",
   "execution_count": null,
   "metadata": {},
   "outputs": [],
   "source": [
    "df3['비만도'].value_counts()"
   ]
  },
  {
   "attachments": {},
   "cell_type": "markdown",
   "metadata": {},
   "source": [
    "### sorting\n",
    "sort by columns"
   ]
  },
  {
   "cell_type": "code",
   "execution_count": null,
   "metadata": {},
   "outputs": [],
   "source": [
    "df3.sort_values('혈압', ascending=False, inplace=True, na_position='first')\n",
    "df3.head()"
   ]
  },
  {
   "attachments": {},
   "cell_type": "markdown",
   "metadata": {},
   "source": [
    "sort by index"
   ]
  },
  {
   "cell_type": "code",
   "execution_count": null,
   "metadata": {},
   "outputs": [],
   "source": [
    "df3.sort_index(inplace=True)\n",
    "df3.head()"
   ]
  },
  {
   "attachments": {},
   "cell_type": "markdown",
   "metadata": {},
   "source": [
    "### `concat`, `merge`, `join` DataFrames\n",
    "> 참고: https://yganalyst.github.io/data_handling/Pd_12/\n",
    "\n",
    "### Reshaping DataFrames: `stack`, `unstack`\n",
    "Multi-level columns"
   ]
  },
  {
   "cell_type": "code",
   "execution_count": null,
   "metadata": {},
   "outputs": [],
   "source": [
    "multi_col = pd.MultiIndex.from_tuples(\n",
    "    [('Wind', 'mph'), ('Temperature', 'C'), ('Temperature', 'F')]\n",
    ")\n",
    "print(multi_col)\n",
    "\n",
    "df_multi = pd.DataFrame(\n",
    "    [[13, 8, 0], [19, 6, 0]],\n",
    "    index=['London', 'Oxford'],\n",
    "    columns=multi_col\n",
    ")\n",
    "df_multi"
   ]
  },
  {
   "cell_type": "code",
   "execution_count": null,
   "metadata": {},
   "outputs": [],
   "source": [
    "df_multi[(\"Temperature\", \"F\")] = df_multi[\"Temperature\"][\"C\"] * 9/5 + 32\n",
    "df_multi"
   ]
  },
  {
   "attachments": {},
   "cell_type": "markdown",
   "metadata": {},
   "source": [
    "`stack()`: column --> row"
   ]
  },
  {
   "cell_type": "code",
   "execution_count": null,
   "metadata": {},
   "outputs": [],
   "source": [
    "s = df_multi.stack()\n",
    "s"
   ]
  },
  {
   "cell_type": "code",
   "execution_count": null,
   "metadata": {},
   "outputs": [],
   "source": [
    "ss = s.stack()\n",
    "ss"
   ]
  },
  {
   "attachments": {},
   "cell_type": "markdown",
   "metadata": {},
   "source": [
    "`unstack()`: row --> column"
   ]
  },
  {
   "cell_type": "code",
   "execution_count": null,
   "metadata": {},
   "outputs": [],
   "source": [
    "ss.unstack()"
   ]
  }
 ],
 "metadata": {
  "kernelspec": {
   "display_name": "Python 3",
   "language": "python",
   "name": "python3"
  },
  "language_info": {
   "codemirror_mode": {
    "name": "ipython",
    "version": 3
   },
   "file_extension": ".py",
   "mimetype": "text/x-python",
   "name": "python",
   "nbconvert_exporter": "python",
   "pygments_lexer": "ipython3",
   "version": "3.7.3"
  }
 },
 "nbformat": 4,
 "nbformat_minor": 2
}
