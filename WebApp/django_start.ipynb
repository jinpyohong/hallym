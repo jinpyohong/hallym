{
 "cells": [
  {
   "cell_type": "markdown",
   "metadata": {},
   "source": [
    "# Django 시작하기"
   ]
  },
  {
   "cell_type": "markdown",
   "metadata": {},
   "source": [
    "## Web Application Architectures\n",
    "![web application architectures](https://reinvently.com/wp-content/uploads/2019/08/scheme.jpg)\n",
    "\n",
    "The other view\n",
    "![web application architectures 2](https://www.researchgate.net/profile/Md_Rafiquzzaman/publication/301787928/figure/fig2/AS:357552459141124@1462258557606/Web-application-system-architecture.png)"
   ]
  },
  {
   "cell_type": "markdown",
   "metadata": {},
   "source": [
    "### Virtual env에서 Django package 설치하기\n",
    "개발은 개인용 컴퓨터에서 개발한 Web application은 web server와 함께 서버에서 실행될 것이기 때문에 개발과정부터 서버에 deployment를 생각해야 한다. Python interpreter version과 Django package등 필요한 site packages들이 동일한 버전으로 개발환경과 실행환경에서 설치되어야 한다. (물론, OS에 무관하게) \n",
    "\n",
    "Python 가상환경을 만들면 시스템 또는 사용자에게 설치된 것과 독립적으로 Python 환경을 제공한다. vevn는  workspace 내에 만들거나 workspace 밖에 만들 수 있다. 밖에 만들면 다른 project와 이 가상환경을 공유하려면 그렇게 하는 편이 좋다.  환경을 이전하려면, 'requirements.txt' 파일만 이전하면 충분하다.) \n",
    "여기서는 workspace 내에 가상환경 이름을 venv로 만들기로 한다. \n",
    "\n",
    "Step 1) venv 환경을 생성\n",
    "- 참고: .venv venv env .env 등 이름은 vs code에서 가상환경으로 인식된다. \n",
    "- 이들은 .gitignore에 삽입하는 편이 좋다.왜냐 하면, 다른 컴퓨터로 이식 가능한 binary가 아니기 때문. \n",
    "```\n",
    "$ mkdir <workspace>\n",
    "$ cd <workspace>\n",
    "$ python -m venv venv\n",
    "```\n",
    "\n",
    "2) 가상환경 Activation\n",
    "- bash: `$ source venv/Scripts/activate`\n",
    "- powershell: `> venv\\Scripts\\Activate.ps1` \n",
    "\n",
    "3) 이 가상환경에 적절한 버전의 Django package를 install한다.\n",
    "```\n",
    "(venv) $ pip install Django==3.0.6\n",
    "```\n",
    "\n",
    "Note: 이 가상환경에서 설치된 package들은 기존에 설치된 Python interpreter에 영향을 주지 않는다.\n",
    "\n",
    "이 가상환경에 설치된 package들을 확인해 본다.\n",
    "```\n",
    "(venv) $ pip freeze\n",
    "```\n",
    "\n",
    "#### 참고: 서버에서 같은 가상환경 설정\n",
    "> 서버로 이식이 필요하다면, 이 가상환경 spec을 requirements.txt 파일에 저장한다.\n",
    "```\n",
    "(venv) $ pip freeze > requirements.txt\n",
    "```\n",
    "\n",
    "> 서버에서 꼭 같은 가상환경을 만들려면\n",
    "```\n",
    "$ python -m pip install -r requirements.txt\n",
    "```"
   ]
  },
  {
   "cell_type": "markdown",
   "metadata": {},
   "source": [
    "## Setup a database\n",
    "PostgreSQL, MySQL, or Oracle 등 대형 DBMS는 있는 것을 이용하거나 별도 설치가 필요하다. \n",
    "- 이 DBMS는 application server와 별도의 machine에서 실행 가능하며 TCP socket 통신으로 query가 전달된다. \n",
    "- 물론, 사용권한이 있어야 한다.\n",
    "- Python interface를 위한 DB API 설치 필요\n",
    "\n",
    ">참고: Python MySQL https://www.w3schools.com/python/python_mysql_getstarted.asp\n",
    "\n",
    "SQLite3:\n",
    "- Django의 default DB이며 표준 Python에 포함되어 있다. \n",
    "- 다만, DB 내용을 보거나 access하려면, [SQLite Database Browser](https://sqlitebrowser.org/)를 설치하자.\n",
    "- 참고: [SQLite로 가볍게 배우는 데이터베이스](https://wikidocs.net/book/1530) "
   ]
  },
  {
   "cell_type": "markdown",
   "metadata": {},
   "source": [
    "## Django Architecture (MVTC)\n",
    "![Django Architecture](static/django_arch.jpg)\n",
    "\n",
    "Django Layout\n",
    "![Django Layout](static/layout.png)"
   ]
  },
  {
   "cell_type": "markdown",
   "metadata": {},
   "source": [
    "## Production and Deployment\n",
    "### Use GitHub\n",
    "Source code는 GitHub를 이용하면 이전이 가능하다. 단, database는 버전관리 대상이면 안된다. (.gitignore에 `*.sqlites3` 라인을 추가하자.)\n",
    "\n",
    "### Virtual Environment 재설정 \n",
    "```\n",
    "$ python -m pip -r requirements.txt\n",
    "```\n",
    "\n",
    "### Database 이전\n",
    "Database의 content는 machine과 OS에 따라 data가 다르게 표현될 수 있기 때문에 그대로 이식할 수 없다. 따라서 이식성이 있는 JSON으로 저장했다가 server에 다시 loading해야 한다.\n",
    "\n",
    "Dump:\n",
    "```\n",
    "python ./manage.py dumpdata --exclude auth.permission --exclude contenttypes > db.json\n",
    "```\n",
    "> 인증과 contenttypes는 dump에서 제외해야한다.\n",
    "\n",
    "Load:\n",
    "```\n",
    "python ./manage.py loaddata db.json\n",
    "```\n",
    "\n"
   ]
  },
  {
   "cell_type": "code",
   "execution_count": null,
   "metadata": {},
   "outputs": [],
   "source": []
  }
 ],
 "metadata": {
  "kernelspec": {
   "display_name": "Python 3",
   "language": "python",
   "name": "python3"
  },
  "language_info": {
   "codemirror_mode": {
    "name": "ipython",
    "version": 3
   },
   "file_extension": ".py",
   "mimetype": "text/x-python",
   "name": "python",
   "nbconvert_exporter": "python",
   "pygments_lexer": "ipython3",
   "version": "3.7.3"
  }
 },
 "nbformat": 4,
 "nbformat_minor": 2
}
