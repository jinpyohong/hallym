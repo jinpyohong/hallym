{
 "cells": [
  {
   "cell_type": "markdown",
   "metadata": {},
   "source": [
    "# Object-oriented Programming (I)\n",
    "##  Why OOP?\n",
    "Code reuse\n",
    "- by supporting inheritance\n",
    "\n",
    "Encapsulation\n",
    "- Wrapping up implementation details behind object interfaces \n",
    "\n",
    "Structure\n",
    "- Classes provide new local scopes, which minimizes name clashes\n",
    "\n",
    "Maintenance\n",
    "- usually only one copy of the code needs to be changed\n",
    "\n",
    "Consistency \n",
    "- Classes and inheritance allow you to implement common interfaces\n",
    "\n",
    "Polymorphism\n",
    "- makes code more flexible and widely applicable, and hence more reusable"
   ]
  },
  {
   "cell_type": "markdown",
   "metadata": {},
   "source": [
    "#### 참고: Name Spaces and Scopes\n",
    "\n",
    "Assignment statement의 의미: `X = 11`\n",
    "- X가 name space에 존재하지 않으면 X라는 name을 create하고 `11`이라는 object를 reference\n",
    "- 존재하면, X라는 name이 새로운 object `11`을 reference\n",
    "\n",
    "Name space: 이름이 정의되는 공간. dir()로 현재 name space에 있는 name들, 즉 symbol table을 볼 수 있다.\n",
    "\n",
    "A **scope** refers to a region of a program from where a namespace can be accessed without a prefix."
   ]
  },
  {
   "cell_type": "markdown",
   "metadata": {},
   "source": [
    "#### Functions as operations on data (I)\n",
    "주어진 data에 대해 적용되는 operation을 정의할 수 있다. 예를 들어 2 차원 좌표를 갖는 point에 대해 다음과 같은 operation을 function으로 정의할 수 있다.\n",
    "```Python\n",
    "Point_x = 0\n",
    "Point_y = 0\n",
    "\n",
    "def set_pos(x, y):\n",
    "    global Point_x, Point_y\n",
    "    Point_x = x\n",
    "    Point_y = y\n",
    "\n",
    "def display():\n",
    "    global Point_x, Point_y\n",
    "    print(\"x={0}, y={1}\".format(Point_x, Point_y))\n",
    "    \n",
    "def distance_from_origin():\n",
    "    global Point_x, Point_y\n",
    "    return (Point_x **2 + Point_y ** 2) ** 0.5\n",
    "    \n",
    "set_pos(4, 5)\n",
    "display()\n",
    "print(distance_from_origin())\n",
    "\n",
    "set_pos(3.2, -5)\n",
    "display()\n",
    "print(distance_from_origin())\n",
    "```"
   ]
  },
  {
   "cell_type": "markdown",
   "metadata": {},
   "source": [
    "#### Functions as operations on data II\n",
    "위 operation은 한 벌의 Point data에만 operation이 적용된다.\n",
    "\n",
    "여러 개의 point들에 대해 같은 operation을 적용하려면, 항상 point data를 parameter로 pass해야 한다."
   ]
  },
  {
   "cell_type": "code",
   "execution_count": null,
   "metadata": {},
   "outputs": [],
   "source": [
    "def Point():\n",
    "    \"\"\"Create a point represented by a list of length 2\"\"\"\n",
    "    return [0, 0]    \n",
    "\n",
    "def set_pos(p, x, y):\n",
    "    p[0] = x\n",
    "    p[1] = y\n",
    "\n",
    "def display(p):\n",
    "    print(\"x={0}, y={1}\".format(p[0], p[1]))\n",
    "    \n",
    "def distance(p, q):\n",
    "    \"\"\"distance between Point p and q\"\"\"\n",
    "    return ((p[0] - q[0])**2 + (p[1] - q[1])**2) ** 0.5\n",
    "    \n",
    "p1 = Point()\n",
    "set_pos(p1, 4, 5)\n",
    "display(p1)\n",
    "print(distance(p1, [0, 0]))\n",
    "\n",
    "p2 = Point()\n",
    "set_pos(p2, 3.2, -5)\n",
    "display(p2)\n",
    "print(distance(p1, p2))"
   ]
  },
  {
   "cell_type": "markdown",
   "metadata": {},
   "source": [
    "## Classes: encapsulate data and its operation. \n",
    "Class는 내부에 data(**attribute**이라 한다)와 function을 포함하고 있으며 이들을 외부와 구별되게 encapulation한다. 이때, class 내에 정의된 function을 **method**라 부른다. \n",
    "Method는 반드시 class나 class instance(class라는 틀에서 생성되는 object)를 지칭하며 call되고, 내부 상태(data)를 수정할 수 있다.\n",
    "\n",
    ">참고:\n",
    ">- Python은 data를 완전히 숨기지 않는다. 다시 말해, C나 Java와 달리 class 내의 이름을 *private*로 완전히 가리는 수단은 없다는 뜻이다.\n",
    ">- 만일, class 밖으로 노출하고 싶지 않은 경우, '_' 또는 '__' 로 시작하는 이름을 지어라."
   ]
  },
  {
   "cell_type": "code",
   "execution_count": null,
   "metadata": {},
   "outputs": [],
   "source": [
    "class Point:\n",
    "    x = 0      # class attributes\n",
    "    y = 0      \n",
    "\n",
    "    def set_pos(x, y):\n",
    "        Point.x = x\n",
    "        Point.y = y\n",
    "\n",
    "    def display():\n",
    "        print(\"x={0}, y={1}\".format(Point.x, Point.y))\n",
    "\n",
    "    def distance_from_origin():\n",
    "        return (Point.x **2 + Point.y ** 2) ** 0.5\n",
    "\n",
    "Point.x = 4\n",
    "Point.y = 5\n",
    "Point.display()\n",
    "print(Point.distance_from_origin())\n",
    "\n",
    "Point.set_pos(3.2, -5)\n",
    "Point.display()\n",
    "print(Point.distance_from_origin())"
   ]
  },
  {
   "cell_type": "markdown",
   "metadata": {},
   "source": [
    "## Class Instances\n",
    "**Class objects** provide default behavior and serve as factories for instance objects\n",
    "\n",
    "**Instance objects** are the real objects your programs process—each is a namespace in its own right, but inherits \n",
    "\n",
    "> `Point.set_pos(p, 4, 5)` is equivalent to `p.set_pos(4, 5)`\n",
    "\n",
    "> Preferred notation is *obj.attr* or *obj.method()*."
   ]
  },
  {
   "cell_type": "code",
   "execution_count": null,
   "metadata": {},
   "outputs": [],
   "source": [
    "class Point:\n",
    "    def set_pos(self, x, y):\n",
    "        self.x = x\n",
    "        self.y = y\n",
    "    \n",
    "    def display(self):\n",
    "        return \"({0}, {1})\".format(self.x, self.y)\n",
    "\n",
    "    def distance(self, q):\n",
    "        \"\"\"distance from self to other point q\"\"\"\n",
    "        return ((self.x - q.x)**2 + (self.y - q.y)**2) ** 0.5\n",
    "\n",
    "p1 = Point()      # a Point class instance\n",
    "p1.set_pos(4, 5)  # Runs: Point.set_pos(p1, 4, 5)\n",
    "\n",
    "p2 = Point()      # a Point class instance\n",
    "p2.set_pos(3.2, -5)\n",
    "\n",
    "print(\"Distance between {0} and {1} is\".format(p1.to_string(), p2.to_string()))\n",
    "print(p1.distance(p2))"
   ]
  },
  {
   "cell_type": "markdown",
   "metadata": {},
   "source": [
    "### Rewriting using\n",
    "#### constructor(initializer) `__init__`\n",
    "`p = Point(x, y)`\n",
    "- shall create a Point class instance \n",
    "- then automatically calls `Point.__init__(p, x, y)`\n",
    "- returns reference of the instance `p`\n",
    "\n",
    "####  pre-defined special method name `__str__`\n",
    "`str(`object`)` calls object.`__str__()`"
   ]
  },
  {
   "cell_type": "code",
   "execution_count": null,
   "metadata": {
    "scrolled": true
   },
   "outputs": [],
   "source": [
    "class Point:    \n",
    "    \"\"\"2D Point class\"\"\"\n",
    "    \n",
    "    def __init__(self, x=0, y=0):\n",
    "        self.x = x\n",
    "        self.y = y\n",
    "    \n",
    "    def __str__(self):\n",
    "        return \"({0}, {1})\".format(self.x, self.y)\n",
    "\n",
    "#     def __repr__(self):\n",
    "#         return \"Point({0}, {1})\".format(self.x, self.y)\n",
    "\n",
    "    def distance(self, other):\n",
    "        return ((self.x - other.x)**2 + (self.y - other.y)**2) ** 0.5\n",
    "\n",
    "p1 = Point()       # a Point class instance\n",
    "p2 = Point(3.2, -5)    # a Point class instance\n",
    "\n",
    "print(p1)\n",
    "print(\"Distance between {0} and {1} is\".format(p1, p2))\n",
    "print(p1.distance(p2))"
   ]
  },
  {
   "cell_type": "code",
   "execution_count": null,
   "metadata": {},
   "outputs": [],
   "source": [
    "str(p1)     # print calls str. str calls __str__"
   ]
  },
  {
   "cell_type": "code",
   "execution_count": null,
   "metadata": {},
   "outputs": [],
   "source": [
    "p1          # calls repr(p1)"
   ]
  },
  {
   "cell_type": "markdown",
   "metadata": {},
   "source": [
    "**str()**: convert into string\n",
    "> `print(obj)` or `format(obj)` ==> `str(obj)` ==> `obj.__str__()`\n",
    "\n",
    "**repr()**: \"official\" string representation of an object that could be used to recreate the object\n",
    "> `>>> obj` or `repr(obj)` ==> `obj.__repr__()`\n",
    "\n",
    "> If `__str__()` method is not defined, `str(obj)` ==> `__repr__()`"
   ]
  },
  {
   "cell_type": "code",
   "execution_count": null,
   "metadata": {},
   "outputs": [],
   "source": [
    "p3 = eval('Point(3, 4)')   # Point(3, 4)\n",
    "p3.distance(p1)"
   ]
  },
  {
   "cell_type": "markdown",
   "metadata": {},
   "source": [
    "### Instance as return values\n",
    "새로운 value가 return된다는 말은 새로운 class instance를 생성해서 return하는 것이다.\n",
    "\n",
    "Function implementation:"
   ]
  },
  {
   "cell_type": "code",
   "execution_count": null,
   "metadata": {},
   "outputs": [],
   "source": [
    "def midpoint(p1, p2):\n",
    "    \"\"\" Return the midpoint of points p1 and p2 \"\"\"\n",
    "    mx = (p1.x + p2.x)/2\n",
    "    my = (p1.y + p2.y)/2\n",
    "    return Point(mx, my)\n",
    "\n",
    "p = Point(3, 4)\n",
    "q = Point(5, 12)\n",
    "r = midpoint(p, q)\n",
    "print(r)"
   ]
  },
  {
   "cell_type": "markdown",
   "metadata": {},
   "source": [
    "Method implementation: 당연히 class 내에 정의하는 편이 바람직"
   ]
  },
  {
   "cell_type": "code",
   "execution_count": null,
   "metadata": {},
   "outputs": [],
   "source": [
    "class Point:    \n",
    "    \"\"\"2D Point class\"\"\"\n",
    "    \n",
    "    def __init__(self, x=0, y=0):\n",
    "        self.x = x\n",
    "        self.y = y\n",
    "    \n",
    "    def __str__(self):\n",
    "        return \"({0}, {1})\".format(self.x, self.y)\n",
    "\n",
    "    def __repr__(self):\n",
    "        return \"Point({0}, {1})\".format(self.x, self.y)\n",
    "\n",
    "    def distance(self, other):\n",
    "        return ((self.x - other.x)**2 + (self.y - other.y)**2) ** 0.5\n",
    "    \n",
    "    def midpoint(self, other):\n",
    "        \"\"\" Return the midpoint of points p1 and p2 \"\"\"\n",
    "        mx = (self.x + other.x)/2\n",
    "        my = (self.y + other.y)/2\n",
    "        return Point(mx, my)\n",
    "\n",
    "mid_p = Point(3,4).midpoint(Point(5, 12))\n",
    "mid_p"
   ]
  },
  {
   "cell_type": "markdown",
   "metadata": {},
   "source": [
    "### Equality: 같은 좌표인가?"
   ]
  },
  {
   "cell_type": "code",
   "execution_count": null,
   "metadata": {},
   "outputs": [],
   "source": [
    "p1 = Point(3, 4)\n",
    "p2 = Point(3, 4)\n",
    "print(id(p1), id(p2))\n",
    "print(p1 is p2)  # refer to the same object?\n",
    "print(p1 == p2)  # equlality not defined in Point class"
   ]
  },
  {
   "cell_type": "markdown",
   "metadata": {},
   "source": [
    "p1과 p2는 좌표는 같지만 다른 Point instance(즉, object)를 가리키고 있다.\n",
    "두 object내의 attribute x와 y의 값, 즉 좌표가 같으면 `p1 == p2`가 `True`가 되도록 `__eq__` magic method를 추가 해 보자."
   ]
  },
  {
   "cell_type": "markdown",
   "metadata": {},
   "source": [
    "### Composite objects\n",
    "Rectangle class의 corner, width, height attribute를 가지며, corner는 Point object로 표현할 수 있다. Object attribute로서 다른 class instance를 갖는 object을 composite object라 한다."
   ]
  },
  {
   "cell_type": "code",
   "execution_count": null,
   "metadata": {},
   "outputs": [],
   "source": [
    "class Rectangle:\n",
    "    \"\"\" A class to manufacture rectangle objects \"\"\"\n",
    "\n",
    "    def __init__(self, posn, w, h):\n",
    "        \"\"\" Initialize rectangle at Point posn, with width w, height h \"\"\"\n",
    "        self.corner = posn\n",
    "        self.width = w\n",
    "        self.height = h\n",
    "\n",
    "    def __str__(self):\n",
    "        return  \"({0}, {1}, {2})\".format(\n",
    "            self.corner, self.width, self.height)\n",
    "    \n",
    "    def __repr__(self):\n",
    "        return  \"Rectangle({0}, {1}, {2})\".format(\n",
    "            repr(self.corner), self.width, self.height)\n",
    "    \n",
    "    def grow(self, delta_width, delta_height):\n",
    "        \"\"\" Grow (or shrink) this object by the deltas \"\"\"\n",
    "        self.width += delta_width\n",
    "        self.height += delta_height\n",
    "\n",
    "    def move(self, dx, dy):\n",
    "        \"\"\" Move this object by the deltas \"\"\"\n",
    "        self.corner.x += dx\n",
    "        self.corner.y += dy\n",
    "\n",
    "box = Rectangle(Point(0, 0), 100, 200)\n",
    "bomb = Rectangle(Point(100, 80), 5, 10)    # In my video game\n",
    "print(\"box: \", box)\n",
    "bomb"
   ]
  },
  {
   "attachments": {
    "image.png": {
     "image/png": "[encoded data removed]"
    }
   },
   "cell_type": "markdown",
   "metadata": {},
   "source": [
    "![image.png](attachment:image.png)"
   ]
  },
  {
   "cell_type": "code",
   "execution_count": null,
   "metadata": {},
   "outputs": [],
   "source": [
    "r = Rectangle(Point(10,5), 100, 50)\n",
    "print(r)\n",
    "r.grow(25, -10)\n",
    "print(r)\n",
    "r.move(-10, 10)\n",
    "print(r)"
   ]
  },
  {
   "cell_type": "markdown",
   "metadata": {},
   "source": [
    "### Copying objects"
   ]
  },
  {
   "cell_type": "markdown",
   "metadata": {},
   "source": [
    "Rename"
   ]
  },
  {
   "cell_type": "code",
   "execution_count": null,
   "metadata": {
    "scrolled": true
   },
   "outputs": [],
   "source": [
    "b1 = Rectangle(Point(0, 0), 100, 200)\n",
    "a = b1\n",
    "a is b1"
   ]
  },
  {
   "attachments": {
    "image.png": {
     "image/png": "[encoded data removed]"
    }
   },
   "cell_type": "markdown",
   "metadata": {},
   "source": [
    "To get shallow copy\n",
    "![image.png](attachment:image.png)"
   ]
  },
  {
   "cell_type": "code",
   "execution_count": null,
   "metadata": {},
   "outputs": [],
   "source": [
    "import copy\n",
    "b2 = copy.copy(b1)\n",
    "b1.corner is b2.corner"
   ]
  },
  {
   "cell_type": "markdown",
   "metadata": {},
   "source": [
    "To get a deep copy:\n",
    "- b1 and b3 are completely separate objects."
   ]
  },
  {
   "cell_type": "code",
   "execution_count": null,
   "metadata": {},
   "outputs": [],
   "source": [
    "b3 = copy.deepcopy(b1)\n",
    "b1.corner is b3.corner"
   ]
  },
  {
   "cell_type": "markdown",
   "metadata": {},
   "source": [
    "## Employee class"
   ]
  },
  {
   "cell_type": "code",
   "execution_count": null,
   "metadata": {},
   "outputs": [],
   "source": [
    "class Employee:\n",
    "    def __init__(self, name, pay, job=None):\n",
    "        self.name = name\n",
    "        self.pay = pay\n",
    "        self.job = job\n",
    "        \n",
    "    def lastName(self):\n",
    "        return self.name.split()[-1]\n",
    "    \n",
    "    def giveRaise(self, percent):\n",
    "        self.pay *= (1.0 + percent)\n",
    "        \n",
    "    def __repr__(self):\n",
    "        return f'Employee({self.name}, {self.pay}, {self.job})'\n",
    "\n",
    "if __name__ == '__main__':\n",
    "    bob = Employee('Bob Smith', 30000)\n",
    "    sue = Employee('Sue Jones', 40000, 'dev')\n",
    "    print(bob)\n",
    "    print(bob.lastName())\n",
    "    sue.giveRaise(0.1)\n",
    "    print(sue)"
   ]
  },
  {
   "cell_type": "markdown",
   "metadata": {},
   "source": [
    "## Inheritance - Subclassing\n",
    "#### Inheritance:\n",
    "Super class의 attribute나 method들은 subclass로상속된다. (정의할 필요없이 super class의 것이 **reuse** 된다.)\n",
    "\n",
    "**is-a** relationship: \n",
    "> *Manager is an Employee.*\n",
    "#### Override:\n",
    "Super class와 같은 이름의 method를 정의할 수 있다. 그러면, super class의 method는현재 정의한 method로 override 된다. 즉, super class의 method는 보이지 않고, 현재 class의 method가 유효하다."
   ]
  },
  {
   "cell_type": "code",
   "execution_count": null,
   "metadata": {},
   "outputs": [],
   "source": [
    "class Manager(Employee):\n",
    "    def __init__(self, name, pay):\n",
    "        Employee.__init__(self, name, pay, 'manager')\n",
    "        # equivalently,\n",
    "        # super().__init__(name, pay, 'manager')\n",
    "    \n",
    "    # override Employee's method\n",
    "    def giveRaise(self, percent, bonus=0.1):\n",
    "        self.pay *= (1.0 + percent + bonus)\n",
    "\n",
    "if __name__ == '__main__':\n",
    "    tom = Manager(name='Tom Doe', pay=50000)\n",
    "    tom.giveRaise(0.1)\n",
    "    print(tom.lastName())    # super's\n",
    "    print(tom)               # super's __repr__"
   ]
  },
  {
   "cell_type": "markdown",
   "metadata": {},
   "source": [
    "Q. super class name으로 tom object가 print되었다. 제대로 수정하라."
   ]
  },
  {
   "cell_type": "markdown",
   "metadata": {},
   "source": [
    "## Composition - embedding objects\n",
    "다른 class object들을 가지고 새로운 object(composite object)를 구성할 수 있다.\n",
    "Attribute에 다른 object들을 포함하고 있다.\n",
    "\n",
    "**has-a** relationship: \n",
    ">*Department has Employees and Managers.*"
   ]
  },
  {
   "cell_type": "code",
   "execution_count": null,
   "metadata": {},
   "outputs": [],
   "source": [
    "class Department:\n",
    "    def __init__(self, *args):\n",
    "        self.members = list(args)\n",
    "        \n",
    "    def addMember(self, employee):\n",
    "        self.members.append(employee)\n",
    "        \n",
    "    def giveRaise(self, percent):\n",
    "        for employee in self.members:\n",
    "            employee.giveRaise(percent)\n",
    "    \n",
    "    def showAll(self):\n",
    "        for employee in self.members:\n",
    "            print(employee)\n",
    "\n",
    "if __name__ == '__main__':\n",
    "    bob = Employee('Bob Smith', 30000, 'dev')\n",
    "    sue = Employee('Sue Jones', 40000, 'dev')\n",
    "    tom = Manager(name='Tom Doe', pay=50000)\n",
    "\n",
    "    development = Department(bob, sue)\n",
    "    development.addMember(tom)\n",
    "    development.giveRaise(.10)\n",
    "    development.showAll()"
   ]
  },
  {
   "cell_type": "markdown",
   "metadata": {},
   "source": [
    "Q. Develoment department에 임금 10%를 올렸다. Manage인 tom에게는 몇 % 상승했나? bob, sue, tom에게 적용된 `giveRaise` method는?\n",
    "\n",
    "Q. showAll method에서 bob, sue, tom에게 적용된 `__repr__` method는?"
   ]
  }
 ],
 "metadata": {
  "kernelspec": {
   "display_name": "Python 3",
   "language": "python",
   "name": "python3"
  },
  "language_info": {
   "codemirror_mode": {
    "name": "ipython",
    "version": 3
   },
   "file_extension": ".py",
   "mimetype": "text/x-python",
   "name": "python",
   "nbconvert_exporter": "python",
   "pygments_lexer": "ipython3",
   "version": "3.7.3"
  }
 },
 "nbformat": 4,
 "nbformat_minor": 2
}
