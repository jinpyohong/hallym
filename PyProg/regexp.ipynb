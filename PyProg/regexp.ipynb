{
 "cells": [
  {
   "cell_type": "markdown",
   "metadata": {},
   "source": [
    "# Regular Expressions\n",
    "String을 탐색하는데 사용되는 pattern을 정의하는 일련의 문자열을 말한다.\n",
    "\n",
    "참고: Regular expression으로 표현가능한 언어를 regular language\n",
    "\n",
    "search: re 즉, pattern으로 기술되는 문자열이 존재하는지 확인 (match되는 substring이 존재하는지)\n",
    "\n",
    "match: re으로 표현된 pattern과 처음부터 끝까지 match되는지 확인\n",
    "\n",
    "match()/search() returns\n",
    "- `Match` object if matched\n",
    "- `None`, otherwise"
   ]
  },
  {
   "cell_type": "code",
   "execution_count": 14,
   "metadata": {},
   "outputs": [
    {
     "data": {
      "text/plain": [
       "<re.Match object; span=(11, 19), match='word:cat'>"
      ]
     },
     "execution_count": 14,
     "metadata": {},
     "output_type": "execute_result"
    }
   ],
   "source": [
    "import re\n",
    "string = 'an example word:cat!!'\n",
    "matched = re.search(r'word:\\w\\w\\w', string)\n",
    "matched"
   ]
  },
  {
   "cell_type": "code",
   "execution_count": null,
   "metadata": {},
   "outputs": [],
   "source": [
    "if matched:\n",
    "    print(matched.group())\n",
    "else:\n",
    "    print('not found')"
   ]
  },
  {
   "cell_type": "code",
   "execution_count": 2,
   "metadata": {},
   "outputs": [
    {
     "name": "stdout",
     "output_type": "stream",
     "text": [
      "<re.Match object; span=(0, 21), match='an example word:cat!!'>\n",
      "an example word:cat!!\n"
     ]
    }
   ],
   "source": [
    "matched = re.match(r'.*word:\\w\\w\\w.*', string)\n",
    "print(matched)\n",
    "if matched:\n",
    "    print(matched.group())\n",
    "else:\n",
    "    print('not found')"
   ]
  },
  {
   "cell_type": "markdown",
   "metadata": {},
   "source": [
    "> See Google for Education > Python Regular Expressions\n",
    "> \n",
    "> https://developers.google.com/edu/python/regular-expressions"
   ]
  },
  {
   "cell_type": "markdown",
   "metadata": {},
   "source": [
    "## Grouping\n",
    "### Group Extraction"
   ]
  },
  {
   "cell_type": "code",
   "execution_count": 18,
   "metadata": {
    "scrolled": true
   },
   "outputs": [
    {
     "name": "stdout",
     "output_type": "stream",
     "text": [
      "대한민국\n",
      "민주공화국\n"
     ]
    }
   ],
   "source": [
    "pat = r'\\b(대한민국)[은는].*?(\\w+?)이다\\.'\n",
    "matched = re.search(pat, '헌법 제1조. 대한민국은 민주공화국이다.')\n",
    "if matched:\n",
    "    print(matched.group(1))\n",
    "    print(matched.group(2))"
   ]
  },
  {
   "cell_type": "code",
   "execution_count": 15,
   "metadata": {
    "scrolled": false
   },
   "outputs": [
    {
     "name": "stdout",
     "output_type": "stream",
     "text": [
      "alice@google.com\n",
      "alice\n",
      "google.com\n",
      "('alice', 'google.com')\n"
     ]
    }
   ],
   "source": [
    "string = 'purple alice@google.com, blah monkey bob@abc.com blah dishwasher'\n",
    "pat = r'([\\w.-]+)@([\\w.-]+)'\n",
    "match = re.search(pat, string)\n",
    "print(match.group())    # entire match\n",
    "print(match.group(1))   # subgroup 1\n",
    "print(match.group(2))   # subgroop 2\n",
    "print(match.groups())   # all subgroups"
   ]
  },
  {
   "cell_type": "markdown",
   "metadata": {},
   "source": [
    "### findall, finditer\n",
    "Find all the match.\n",
    "- findall: returns list of tuples\n",
    "- finditer: returns iterator of matched objects"
   ]
  },
  {
   "cell_type": "code",
   "execution_count": 16,
   "metadata": {},
   "outputs": [
    {
     "name": "stdout",
     "output_type": "stream",
     "text": [
      "[('alice', 'google.com'), ('bob', 'abc.com')]\n"
     ]
    }
   ],
   "source": [
    "match = re.findall(pat, string) # returns list of tuples\n",
    "print(match)"
   ]
  },
  {
   "cell_type": "markdown",
   "metadata": {},
   "source": [
    "Compiled version이 빠르다."
   ]
  },
  {
   "cell_type": "code",
   "execution_count": 8,
   "metadata": {},
   "outputs": [
    {
     "name": "stdout",
     "output_type": "stream",
     "text": [
      "[('alice', 'google.com'), ('bob', 'abc.com')]\n"
     ]
    }
   ],
   "source": [
    "pat = re.compile(r'([\\w.-]+)@([\\w.-]+)')\n",
    "match = pat.findall(string)\n",
    "print(match)"
   ]
  },
  {
   "cell_type": "code",
   "execution_count": 9,
   "metadata": {},
   "outputs": [
    {
     "name": "stdout",
     "output_type": "stream",
     "text": [
      "('alice', 'google.com')\n",
      "('bob', 'abc.com')\n"
     ]
    }
   ],
   "source": [
    "for match in pat.finditer(string):\n",
    "    print(match.groups())"
   ]
  },
  {
   "cell_type": "markdown",
   "metadata": {},
   "source": [
    "### Back-referencing Groups\n",
    "Refer to previous groups `group(1)`, `group(2)` by `\\1`, `\\2`, ...\n",
    "\n",
    "`re.sub(`pat, replacement, str`)` -- returns new string with all replacements,"
   ]
  },
  {
   "cell_type": "code",
   "execution_count": 10,
   "metadata": {},
   "outputs": [
    {
     "name": "stdout",
     "output_type": "stream",
     "text": [
      "purple alice@yo-yo-dyne.com, blah monkey bob@yo-yo-dyne.com blah dishwasher\n"
     ]
    }
   ],
   "source": [
    "new_str = pat.sub(r'\\1@yo-yo-dyne.com', string)\n",
    "print(new_str)"
   ]
  },
  {
   "cell_type": "markdown",
   "metadata": {},
   "source": [
    "## Non-greedy matching\n",
    "`.*`, `.+` 는 가장 크게 matching시키려 한다. (greedy)\n",
    "\n",
    "Non-greedy(가장 작게) match하려면 `.*?`, `.+?` "
   ]
  },
  {
   "cell_type": "code",
   "execution_count": 26,
   "metadata": {},
   "outputs": [
    {
     "data": {
      "text/plain": [
       "'<html>'"
      ]
     },
     "execution_count": 26,
     "metadata": {},
     "output_type": "execute_result"
    }
   ],
   "source": [
    "html = \"\"\"<html>\n",
    "    <head>\n",
    "        <title>한림대학교</title>\n",
    "    </head>\n",
    "    <body>\n",
    "        <p>LIFS lab 학생들은 열심히 공부한다.</p>\n",
    "    </body>\n",
    "</html>\"\"\"\n",
    "re.search(r'<.*>', html).group()"
   ]
  },
  {
   "cell_type": "code",
   "execution_count": 27,
   "metadata": {
    "scrolled": true
   },
   "outputs": [
    {
     "data": {
      "text/plain": [
       "'<html>'"
      ]
     },
     "execution_count": 27,
     "metadata": {},
     "output_type": "execute_result"
    }
   ],
   "source": [
    "re.search(r'<.*?>', html).group()"
   ]
  },
  {
   "cell_type": "code",
   "execution_count": 29,
   "metadata": {},
   "outputs": [
    {
     "data": {
      "text/plain": [
       "[('title', '한림대학교'), ('p', 'LIFS lab 학생들은 열심히 공부한다.')]"
      ]
     },
     "execution_count": 29,
     "metadata": {},
     "output_type": "execute_result"
    }
   ],
   "source": [
    "re.findall(r'<(.*?)>(.*)</\\1>', html)"
   ]
  },
  {
   "cell_type": "code",
   "execution_count": 36,
   "metadata": {},
   "outputs": [
    {
     "data": {
      "text/plain": [
       "[('link', 'https://ssl.pstatic.net/tveta/libs/ndpsdk/prod/ndp-loader.js'),\n",
       " ('script', 'https://ssl.pstatic.net/tveta/libs/glad/prod/gfp-core.js'),\n",
       " ('script',\n",
       "  'https://ssl.pstatic.net/tveta/libs/assets/js/pc/main/min/pc.veta.core.min.js'),\n",
       " ('script', 'https://pm.pstatic.net/resources/js/polyfill.f47ccc9a.js?o=www'),\n",
       " ('script', 'https://pm.pstatic.net/resources/js/preload.2efda94c.js?o=www'),\n",
       " ('script', 'https://pm.pstatic.net/resources/js/search.90d1988d.js?o=www'),\n",
       " ('script', 'https://pm.pstatic.net/resources/js/main.2e40335b.js?o=www')]"
      ]
     },
     "execution_count": 36,
     "metadata": {},
     "output_type": "execute_result"
    }
   ],
   "source": [
    "import requests\n",
    "\n",
    "r = requests.get(\"https://www.naver.com\")\n",
    "regexp = r'<(img|script|a|style|link)\\b.*?src=\"(.*?)\".*?>'\n",
    "pat = re.compile(regexp)\n",
    "files_loaded = pat.findall(r.text)\n",
    "files_loaded"
   ]
  }
 ],
 "metadata": {
  "kernelspec": {
   "display_name": "Python 3",
   "language": "python",
   "name": "python3"
  },
  "language_info": {
   "codemirror_mode": {
    "name": "ipython",
    "version": 3
   },
   "file_extension": ".py",
   "mimetype": "text/x-python",
   "name": "python",
   "nbconvert_exporter": "python",
   "pygments_lexer": "ipython3",
   "version": "3.7.3"
  }
 },
 "nbformat": 4,
 "nbformat_minor": 2
}
