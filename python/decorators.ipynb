{
 "cells": [
  {
   "cell_type": "markdown",
   "metadata": {},
   "source": [
    "# Decorators\n",
    "Decorators wrap a function, modifying its behavior."
   ]
  },
  {
   "cell_type": "code",
   "execution_count": 1,
   "metadata": {},
   "outputs": [
    {
     "name": "stdout",
     "output_type": "stream",
     "text": [
      "<function my_decorator.<locals>.wrapper at 0x00000259C97596A8>\n",
      "Something is happening before the function is called.\n",
      "Hello, World\n",
      "Something is happening after the function is called.\n"
     ]
    }
   ],
   "source": [
    "def my_decorator(func):\n",
    "    def wrapper(*args, **kwargs):\n",
    "        print(\"Something is happening before the function is called.\")\n",
    "        func(*args, **kwargs)\n",
    "        print(\"Something is happening after the function is called.\")\n",
    "    return wrapper\n",
    "\n",
    "def say(greeting, name):\n",
    "    print(f\"{greeting}, {name}\")\n",
    "say = my_decorator(say)\n",
    "\n",
    "print(say)\n",
    "say('Hello', 'World')"
   ]
  },
  {
   "cell_type": "markdown",
   "metadata": {},
   "source": [
    "Decorator 활용 -- @ symbol로 간단히"
   ]
  },
  {
   "cell_type": "code",
   "execution_count": 2,
   "metadata": {},
   "outputs": [
    {
     "name": "stdout",
     "output_type": "stream",
     "text": [
      "<function my_decorator.<locals>.wrapper at 0x00000259C97592F0>\n",
      "Something is happening before the function is called.\n",
      "Hello, World\n",
      "Something is happening after the function is called.\n"
     ]
    }
   ],
   "source": [
    "def my_decorator(func):\n",
    "    def wrapper(*args, **kwargs):\n",
    "        print(\"Something is happening before the function is called.\")\n",
    "        func(*args, **kwargs)\n",
    "        print(\"Something is happening after the function is called.\")\n",
    "    return wrapper\n",
    "\n",
    "@my_decorator\n",
    "def say(greeting, name):\n",
    "    print(f\"{greeting}, {name}\")\n",
    "\n",
    "print(say)\n",
    "say('Hello', 'World')"
   ]
  },
  {
   "cell_type": "markdown",
   "metadata": {},
   "source": [
    "To preserve information about original function for debugging,\n",
    "use `@functools.wraps` decorator"
   ]
  },
  {
   "cell_type": "code",
   "execution_count": 3,
   "metadata": {},
   "outputs": [
    {
     "name": "stdout",
     "output_type": "stream",
     "text": [
      "<function say at 0x00000259C9759158>\n",
      "Something is happening before the function is called.\n",
      "Hello, World\n",
      "Something is happening after the function is called.\n"
     ]
    }
   ],
   "source": [
    "import functools\n",
    "\n",
    "def my_decorator(func):\n",
    "    @functools.wraps(func)\n",
    "    def wrapper(*args, **kwargs):\n",
    "        print(\"Something is happening before the function is called.\")\n",
    "        func(*args, **kwargs)\n",
    "        print(\"Something is happening after the function is called.\")\n",
    "    return wrapper\n",
    "\n",
    "@my_decorator\n",
    "def say(greeting, name):\n",
    "    print(f\"{greeting}, {name}\")\n",
    "\n",
    "print(say)\n",
    "say('Hello', 'World')"
   ]
  },
  {
   "cell_type": "markdown",
   "metadata": {},
   "source": [
    "### Timing functions"
   ]
  },
  {
   "cell_type": "code",
   "execution_count": 4,
   "metadata": {},
   "outputs": [
    {
     "name": "stdout",
     "output_type": "stream",
     "text": [
      "Finished 'waste_some_time' in 0.5352 secs\n"
     ]
    }
   ],
   "source": [
    "import functools\n",
    "import time\n",
    "\n",
    "def timer(func):\n",
    "    \"\"\"Print the runtime of the decorated function\"\"\"\n",
    "    @functools.wraps(func)\n",
    "    def wrapper_timer(*args, **kwargs):\n",
    "        start_time = time.perf_counter() # Python >= 3.3 instead of time.clock()\n",
    "        value = func(*args, **kwargs)\n",
    "        run_time = time.perf_counter() - start_time\n",
    "        # !r specifier means that repr() is used\n",
    "        print(f\"Finished {func.__name__!r} in {run_time:.4f} secs\")\n",
    "        return value\n",
    "    return wrapper_timer\n",
    "\n",
    "@timer\n",
    "def waste_some_time(num_times):\n",
    "    for _ in range(num_times):\n",
    "        sum(i**2 for i in range(10000))\n",
    "        \n",
    "waste_some_time(100)"
   ]
  },
  {
   "cell_type": "markdown",
   "metadata": {},
   "source": [
    "## Access Control in Python\n",
    "Java나 C++에서 private, public, protected attribute가 있지만, Python에서는 엄밀한 의미에서 없다.\n",
    "* `__`로 시작하는 name: 이름으로 access 불가능하다. (실제, 다른 이름으로 망가뜨림)\n",
    "* `_`로 시작하는 name: access 가능하지만, public이 아리라는 의도를 나타낼 뿐\n",
    "* 기타 name: public이다. (사실, Python name은 모두 public이다.)"
   ]
  },
  {
   "cell_type": "code",
   "execution_count": 5,
   "metadata": {},
   "outputs": [
    {
     "name": "stdout",
     "output_type": "stream",
     "text": [
      "Call public()\n",
      "Call _protected()\n"
     ]
    },
    {
     "ename": "AttributeError",
     "evalue": "'Access' object has no attribute '__private'",
     "output_type": "error",
     "traceback": [
      "\u001b[1;31m---------------------------------------------------------------------------\u001b[0m",
      "\u001b[1;31mAttributeError\u001b[0m                            Traceback (most recent call last)",
      "\u001b[1;32m<ipython-input-5-ae978c22cb7e>\u001b[0m in \u001b[0;36m<module>\u001b[1;34m\u001b[0m\n\u001b[0;32m     12\u001b[0m     \u001b[0maccess\u001b[0m\u001b[1;33m.\u001b[0m\u001b[0mpublic\u001b[0m\u001b[1;33m(\u001b[0m\u001b[1;33m)\u001b[0m\u001b[1;33m\u001b[0m\u001b[1;33m\u001b[0m\u001b[0m\n\u001b[0;32m     13\u001b[0m     \u001b[0maccess\u001b[0m\u001b[1;33m.\u001b[0m\u001b[0m_protected\u001b[0m\u001b[1;33m(\u001b[0m\u001b[1;33m)\u001b[0m\u001b[1;33m\u001b[0m\u001b[1;33m\u001b[0m\u001b[0m\n\u001b[1;32m---> 14\u001b[1;33m     \u001b[0maccess\u001b[0m\u001b[1;33m.\u001b[0m\u001b[0m__private\u001b[0m\u001b[1;33m(\u001b[0m\u001b[1;33m)\u001b[0m     \u001b[1;31m# AttributeError\u001b[0m\u001b[1;33m\u001b[0m\u001b[1;33m\u001b[0m\u001b[0m\n\u001b[0m",
      "\u001b[1;31mAttributeError\u001b[0m: 'Access' object has no attribute '__private'"
     ]
    }
   ],
   "source": [
    "class Access : \n",
    "    def __init__(self) : \n",
    "        pass \n",
    "    def public(self) :\n",
    "        print(\"Call public()\") \n",
    "    def _protected(self) : \n",
    "        print(\"Call _protected()\") \n",
    "    def __private(self) : \n",
    "        print(\"Call __private()\") \n",
    "if __name__ == \"__main__\": \n",
    "    access = Access() \n",
    "    access.public() \n",
    "    access._protected() \n",
    "    access.__private()     # AttributeError"
   ]
  },
  {
   "cell_type": "markdown",
   "metadata": {},
   "source": [
    "### Decorating Classes - builtin decorators\n",
    "`@staticmethod`, `@classmethod` decorator: to define methods inside a class name space that are not connected a particular instance of that class.\n",
    "\n",
    "`@property` decorator: to customize getters and setters for class attributes"
   ]
  },
  {
   "cell_type": "code",
   "execution_count": 1,
   "metadata": {},
   "outputs": [
    {
     "data": {
      "text/plain": [
       "5"
      ]
     },
     "execution_count": 1,
     "metadata": {},
     "output_type": "execute_result"
    }
   ],
   "source": [
    "class Circle:\n",
    "    def __init__(self, radius):\n",
    "        self._radius = radius\n",
    "\n",
    "    @property\n",
    "    def radius(self):\n",
    "        \"\"\"Get value of radius\"\"\"\n",
    "        return self._radius\n",
    "\n",
    "    @radius.setter\n",
    "    def radius(self, value):\n",
    "        \"\"\"Set radius, raise error if negative\"\"\"\n",
    "        if value >= 0:\n",
    "            self._radius = value\n",
    "        else:\n",
    "            raise ValueError(\"Radius must be positive\")\n",
    "\n",
    "    @property\n",
    "    def area(self):\n",
    "        \"\"\"Calculate area inside circle\"\"\"\n",
    "        return self.pi() * self.radius**2\n",
    "\n",
    "    def cylinder_volume(self, height):\n",
    "        \"\"\"Calculate volume of cylinder with circle as base\"\"\"\n",
    "        return self.area * height\n",
    "\n",
    "    @classmethod\n",
    "    def unit_circle(cls):\n",
    "        \"\"\"Factory method creating a circle with radius 1\"\"\"\n",
    "        return cls(1)\n",
    "\n",
    "    @staticmethod\n",
    "    def pi():\n",
    "        \"\"\"Value of π, could use math.pi instead though\"\"\"\n",
    "        return 3.1415926535\n",
    "    \n",
    "c = Circle(5)\n",
    "c.radius"
   ]
  },
  {
   "cell_type": "code",
   "execution_count": 7,
   "metadata": {},
   "outputs": [
    {
     "data": {
      "text/plain": [
       "78.5398163375"
      ]
     },
     "execution_count": 7,
     "metadata": {},
     "output_type": "execute_result"
    }
   ],
   "source": [
    "c.area"
   ]
  },
  {
   "cell_type": "code",
   "execution_count": 8,
   "metadata": {},
   "outputs": [
    {
     "data": {
      "text/plain": [
       "12.566370614"
      ]
     },
     "execution_count": 8,
     "metadata": {},
     "output_type": "execute_result"
    }
   ],
   "source": [
    "c.radius = 2\n",
    "c.area"
   ]
  },
  {
   "cell_type": "code",
   "execution_count": 9,
   "metadata": {},
   "outputs": [
    {
     "name": "stdout",
     "output_type": "stream",
     "text": [
      "<class '__main__.Circle'>\n",
      "1\n"
     ]
    }
   ],
   "source": [
    "c = Circle.unit_circle()\n",
    "print(type(c))\n",
    "print(c.radius)"
   ]
  },
  {
   "cell_type": "code",
   "execution_count": 10,
   "metadata": {},
   "outputs": [
    {
     "name": "stdout",
     "output_type": "stream",
     "text": [
      "3.1415926535\n",
      "3.1415926535\n"
     ]
    }
   ],
   "source": [
    "print(c.pi())\n",
    "print(Circle.pi())"
   ]
  }
 ],
 "metadata": {
  "kernelspec": {
   "display_name": "Python 3",
   "language": "python",
   "name": "python3"
  },
  "language_info": {
   "codemirror_mode": {
    "name": "ipython",
    "version": 3
   },
   "file_extension": ".py",
   "mimetype": "text/x-python",
   "name": "python",
   "nbconvert_exporter": "python",
   "pygments_lexer": "ipython3",
   "version": "3.10.9"
  }
 },
 "nbformat": 4,
 "nbformat_minor": 2
}
