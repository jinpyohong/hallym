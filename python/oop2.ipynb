{
 "cells": [
  {
   "cell_type": "markdown",
   "metadata": {},
   "source": [
    "# Object-Oriented Programming (II)"
   ]
  },
  {
   "cell_type": "markdown",
   "metadata": {},
   "source": [
    "## Magic methods\n",
    "`__xxx__` 형식의 이름으로 pre-defined special method를 **magic method**라 한다.\n",
    "\n",
    "`MyTime` class를 정의해 보자. \n",
    "\n",
    "주요 method로 \n",
    "- `t1.add_time(t2)`: 두 개의 MyTime object을 더한 결과로 `MyTime` object을 return\n",
    "- `t1.after(t2)`: t1이 t2 이후의 시간인가?"
   ]
  },
  {
   "cell_type": "code",
   "execution_count": null,
   "metadata": {},
   "outputs": [],
   "source": [
    "class MyTime:\n",
    "\n",
    "    def __init__(self, hrs=0, mins=0, secs=0):\n",
    "        \"\"\" Create a MyTime object initialized to hrs, mins, secs \"\"\"\n",
    "        self.hours = hrs\n",
    "        self.minutes = mins\n",
    "        self.seconds = secs\n",
    "    \n",
    "    def add_time(self, other):\n",
    "        h = self.hours + other.hours\n",
    "        m = self.minutes + other.minutes\n",
    "        s = self.seconds + other.seconds\n",
    "        if s >= 60:\n",
    "            s -= 60\n",
    "            m += 1\n",
    "        if m >= 60:\n",
    "            m -= 60\n",
    "            h += 1\n",
    "        return MyTime(h, m, s)   \n",
    "    \n",
    "    def after(self, other):\n",
    "        \"\"\"self is after other?\"\"\"\n",
    "        return self.to_seconds() > other.to_seconds()\n",
    "        \n",
    "    def to_seconds(self):\n",
    "        return (self.hours * 60 + self.minutes) * 60 + self.seconds\n",
    "    \n",
    "    def __repr__(self):\n",
    "        return 'MyTime({}, {}, {})'.format(self.hours, self.minutes, self.seconds)\n",
    "    \n",
    "    def __str__(self):\n",
    "        return '{:02}:{:02}:{:02}'.format(self.hours, self.minutes, self.seconds)\n",
    "\n",
    "t1 = MyTime(11, 59, 30)\n",
    "t2 = MyTime(8, 28, 50)\n",
    "t3 = t1.add_time(t2)\n",
    "print(t1, '+', t2, '-->', t3)\n",
    "t3.after(t1)"
   ]
  },
  {
   "cell_type": "code",
   "execution_count": null,
   "metadata": {},
   "outputs": [],
   "source": [
    "print(t1)\n",
    "MyTime(8, 69, 78)"
   ]
  },
  {
   "cell_type": "markdown",
   "metadata": {},
   "source": [
    "> 주의: 분과 초가 60을 넘지 않게 normalize하려면 `__init__` method에서 행함이 바람직."
   ]
  },
  {
   "cell_type": "markdown",
   "metadata": {},
   "source": [
    "## Builtin function overloading\n",
    ">**Overloading**: 이름은 같지만 다른 parameter에 대해 다른 여러 method를 정의하는 행위\n",
    "\n",
    "예를 들어, object에 적용되는 builtin function `str()`을 call하면 object의 class에 따라 다르게 동작하는 `__str__()` method가 call된다. `len()` ==> `__len__()`"
   ]
  },
  {
   "cell_type": "code",
   "execution_count": null,
   "metadata": {},
   "outputs": [],
   "source": [
    "str(123)  # for int"
   ]
  },
  {
   "cell_type": "code",
   "execution_count": null,
   "metadata": {},
   "outputs": [],
   "source": [
    "str([1, 2, 3])  # for list"
   ]
  },
  {
   "cell_type": "code",
   "execution_count": null,
   "metadata": {
    "scrolled": true
   },
   "outputs": [],
   "source": [
    "str(t1)   # for MyTime class instance"
   ]
  },
  {
   "cell_type": "markdown",
   "metadata": {},
   "source": [
    "## Operator Overloading\n",
    "Operand에 따라 operator가 다른 방식으로 동작한다. \n",
    "Bulitin function overloading 처럼 '+', '-' operator는 operand의 type(즉, class)에 따라 해당되는 class의 `__add__()`, `__sub__()` 라는 이름의 special method를 call한다."
   ]
  },
  {
   "cell_type": "markdown",
   "metadata": {},
   "source": [
    "`add_time` method 이름을 Python predefined method인 `__add__`로 변경하자. \n",
    "그러면, 지금부터 `MyTime` object간에 `+` operator를 사용할 수 있다. \n",
    "\n",
    "`after` method 명을 `__gt__`으로 바꿔 보자. 그러면 `>` operator를 쓸 수 있게 된다."
   ]
  },
  {
   "cell_type": "code",
   "execution_count": null,
   "metadata": {},
   "outputs": [],
   "source": [
    "class MyTime:\n",
    "\n",
    "    def __init__(self, hrs=0, mins=0, secs=0): \n",
    "        \"\"\" Create a MyTime object initialized to hrs, mins, secs \"\"\"\n",
    "        totalsecs = (hrs*60 + mins)*60 + secs\n",
    "        self.minutes, self.seconds = totalsecs // 60, totalsecs % 60\n",
    "        self.hours, self.minutes = self.minutes // 60, self.minutes % 60\n",
    " \n",
    "    def __add__(self, other):\n",
    "        return MyTime(self.hours + other.hours, self.minutes + other.minutes, \n",
    "                     self.seconds + other.seconds)\n",
    "    \n",
    "    def to_seconds(self):\n",
    "        return (self.hours*60 + self.minutes)*60 + self.seconds\n",
    "\n",
    "    def __gt__(self, other):\n",
    "        return self.to_seconds() > other.to_seconds()\n",
    "       \n",
    "    def __repr__(self):\n",
    "        return 'MyTime({}, {}, {})'.format(self.hours, self.minutes, self.seconds)\n",
    "    \n",
    "    def __str__(self):\n",
    "        return '{:02}:{:02}:{:02}'.format(self.hours, self.minutes, self.seconds)\n",
    "\n",
    "t1 = MyTime(10, 59, 30)\n",
    "# t2 = MyTime(8, 28, 50)\n",
    "t2 = MyTime(secs=5000)\n",
    "t3 = t1 + t2\n",
    "t3"
   ]
  },
  {
   "cell_type": "code",
   "execution_count": null,
   "metadata": {},
   "outputs": [],
   "source": [
    "print(t1)\n",
    "t1 += t2\n",
    "print(t1)"
   ]
  },
  {
   "cell_type": "code",
   "execution_count": null,
   "metadata": {},
   "outputs": [],
   "source": [
    "t1 > t2"
   ]
  },
  {
   "cell_type": "markdown",
   "metadata": {},
   "source": [
    "Q. Relational operators `> >= < <= == !=`들은 다음의 special method로 구현된다.\n",
    "```Python\n",
    "__gt__ __ge__ __lt__ __le__ __eq__ __ne__\n",
    "```\n",
    "이들 method를 추가하고 test해 보자. *위 cell에 추가해서 시험해 보자.*"
   ]
  },
  {
   "cell_type": "markdown",
   "metadata": {},
   "source": [
    "### Operators and their magic methods\n",
    "```Python\n",
    "Binary Operators\n",
    "\n",
    "Operator           Method\n",
    "+                  object.__add__(self, other)\n",
    "-                  object.__sub__(self, other)\n",
    "*                  object.__mul__(self, other)\n",
    "//                 object.__floordiv__(self, other)\n",
    "/                  object.__div__(self, other)\n",
    "%                  object.__mod__(self, other)\n",
    "**                 object.__pow__(self, other[, modulo])\n",
    "<<                 object.__lshift__(self, other)\n",
    ">>                 object.__rshift__(self, other)\n",
    "&                  object.__and__(self, other)\n",
    "^                  object.__xor__(self, other)\n",
    "|                  object.__or__(self, other)\n",
    "\n",
    "Assignment Operators:\n",
    "\n",
    "Operator          Method\n",
    "+=                object.__iadd__(self, other)\n",
    "-=                object.__isub__(self, other)\n",
    "*=                object.__imul__(self, other)\n",
    "/=                object.__idiv__(self, other)\n",
    "//=               object.__ifloordiv__(self, other)\n",
    "%=                object.__imod__(self, other)\n",
    "**=               object.__ipow__(self, other[, modulo])\n",
    "<<=               object.__ilshift__(self, other)\n",
    ">>=               object.__irshift__(self, other)\n",
    "&=                object.__iand__(self, other)\n",
    "^=                object.__ixor__(self, other)\n",
    "|=                object.__ior__(self, other)\n",
    "\n",
    "Unary Operators:\n",
    "\n",
    "Operator          Method\n",
    "-                 object.__neg__(self)\n",
    "+                 object.__pos__(self)\n",
    "abs()             object.__abs__(self)\n",
    "~                 object.__invert__(self)\n",
    "complex()         object.__complex__(self)\n",
    "int()             object.__int__(self)\n",
    "long()            object.__long__(self)\n",
    "float()           object.__float__(self)\n",
    "oct()             object.__oct__(self)\n",
    "hex()             object.__hex__(self)\n",
    "\n",
    "Comparison Operators\n",
    "\n",
    "Operator          Method\n",
    "<                 object.__lt__(self, other)\n",
    "<=                object.__le__(self, other)\n",
    "==                object.__eq__(self, other)\n",
    "!=                object.__ne__(self, other)\n",
    ">=                object.__ge__(self, other)\n",
    ">                 object.__gt__(self, other)\n",
    "```"
   ]
  },
  {
   "cell_type": "markdown",
   "metadata": {},
   "source": [
    "### Special Class Attributes"
   ]
  },
  {
   "cell_type": "code",
   "execution_count": null,
   "metadata": {
    "scrolled": false
   },
   "outputs": [],
   "source": [
    "print(t1.__class__)\n",
    "print(t1.__class__.__name__)\n",
    "print(t1.__dict__)    # Attributes are really dict"
   ]
  },
  {
   "cell_type": "markdown",
   "metadata": {},
   "source": [
    "### Static Methods\n",
    "Counting instances:"
   ]
  },
  {
   "cell_type": "code",
   "execution_count": null,
   "metadata": {},
   "outputs": [],
   "source": [
    "class Spam:\n",
    "    numInstances = 0\n",
    "    \n",
    "    def __init__(self):\n",
    "        Spam.numInstances += 1\n",
    "        \n",
    "    @staticmethod\n",
    "    def printNumInstances():\n",
    "        print(\"Number of instances created: {}\".format(Spam.numInstances))\n",
    "        \n",
    "a = Spam()\n",
    "b = Spam()\n",
    "Spam.printNumInstances()\n",
    "a.printNumInstances()"
   ]
  },
  {
   "cell_type": "markdown",
   "metadata": {},
   "source": [
    "## Example: making custom sequence type\n",
    "List와 같은 sequence type을 만들어 보자. 정의해야 할  magic method 들은\n",
    "- indexing, slicing: `__getitem__, __setitem__, __delitem__`\n",
    "- len():  `__len__`\n",
    "- for iterables: `__iter__`\n",
    "- reversed(): `__reversed__`\n",
    "\n",
    "append, head, tail, last, drop, take method도 정의해 보자."
   ]
  },
  {
   "cell_type": "code",
   "execution_count": null,
   "metadata": {},
   "outputs": [],
   "source": [
    "class FunctionalList:\n",
    "    \"\"\"A class wrapping a list with some extra functional magic, \n",
    "    like head, tail, last, drop, and take.\n",
    "    \"\"\"\n",
    "\n",
    "    def __init__(self, values=None):\n",
    "        if values is None:\n",
    "            self.values = []\n",
    "        else:\n",
    "            self.values = values\n",
    "\n",
    "    def __len__(self):\n",
    "        return len(self.values)\n",
    "\n",
    "    def __getitem__(self, key):\n",
    "        # if key is of invalid type or value, the list values will raise the error\n",
    "        return self.values[key]\n",
    "\n",
    "    def __setitem__(self, key, value):\n",
    "        self.values[key] = value\n",
    "\n",
    "    def __delitem__(self, key):\n",
    "        del self.values[key]\n",
    "\n",
    "    def __iter__(self):\n",
    "        return iter(self.values)\n",
    "\n",
    "    def __reversed__(self):\n",
    "        return reversed(self.values)\n",
    "\n",
    "    def append(self, value):\n",
    "        self.values.append(value)\n",
    "    def head(self):\n",
    "        \"\"\"get the first 5 elements\"\"\"\n",
    "        return self.values[:5]\n",
    "    def tail(self):\n",
    "        \"\"\"get the last 5 elements\"\"\"\n",
    "        return self.values[-5:]\n",
    "    def last(self):\n",
    "        \"\"\"get last element\"\"\"\n",
    "        return self.values[-1]\n",
    "    def drop(self, n):\n",
    "        \"\"\"get all elements except first n\"\"\"\n",
    "        return self.values[n:]\n",
    "    def take(self, n):\n",
    "        \"\"\"get first n elements\"\"\"\n",
    "        return self.values[:n]\n",
    "    \n",
    "l = FunctionalList([])"
   ]
  }
 ],
 "metadata": {
  "kernelspec": {
   "display_name": "Python 3",
   "language": "python",
   "name": "python3"
  },
  "language_info": {
   "codemirror_mode": {
    "name": "ipython",
    "version": 3
   },
   "file_extension": ".py",
   "mimetype": "text/x-python",
   "name": "python",
   "nbconvert_exporter": "python",
   "pygments_lexer": "ipython3",
   "version": "3.7.3"
  }
 },
 "nbformat": 4,
 "nbformat_minor": 2
}
