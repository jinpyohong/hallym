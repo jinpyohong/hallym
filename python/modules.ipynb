{
 "cells": [
  {
   "cell_type": "markdown",
   "metadata": {},
   "source": [
    "# Modules\n",
    "---\n",
    "다른 Python 프로그램이 사용할 수 있는 Python code가 들어있는 파일. \n",
    "- Standard library는 Python interpreter와 함께 기본적으로 설치된다.\n",
    "- 제3자가 만든 module이나 package(module들의 집합)들은 설치해야 사용 가능하다.\n",
    "- 프로그램 작성할 때 여러 module, 즉 .py 파일들로 나눌 수 있다."
   ]
  },
  {
   "cell_type": "markdown",
   "metadata": {},
   "source": [
    "## The `random` module"
   ]
  },
  {
   "cell_type": "code",
   "execution_count": null,
   "metadata": {},
   "outputs": [],
   "source": [
    "import random\n",
    "\n",
    "random.random()    # Random float: 0.0 <= x < 1.0"
   ]
  },
  {
   "cell_type": "code",
   "execution_count": null,
   "metadata": {},
   "outputs": [],
   "source": [
    "random.choice([1, 2, 3, 4, 5, 6])   # choice from a sequence"
   ]
  },
  {
   "cell_type": "code",
   "execution_count": null,
   "metadata": {},
   "outputs": [],
   "source": [
    "random.randrange(1, 7)  # choice from integer range"
   ]
  },
  {
   "cell_type": "markdown",
   "metadata": {},
   "source": [
    "주사위 던지기"
   ]
  },
  {
   "cell_type": "code",
   "execution_count": null,
   "metadata": {},
   "outputs": [],
   "source": [
    "dice_throws = (random.randrange(1, 7) for i in range(60))\n",
    "counter = {}\n",
    "for i in dice_throws:\n",
    "    counter[i] = counter.get(i, 0) + 1\n",
    "counter"
   ]
  },
  {
   "cell_type": "code",
   "execution_count": null,
   "metadata": {},
   "outputs": [],
   "source": [
    "cards = ['Ace', '2', '3', '4', 'queen']\n",
    "random.shuffle(cards)   #  shuffle the list in place\n",
    "cards"
   ]
  },
  {
   "cell_type": "code",
   "execution_count": null,
   "metadata": {},
   "outputs": [],
   "source": [
    "random.sample([10, 20, 30, 40, 50], k=4) # 4 samples without replacement"
   ]
  },
  {
   "cell_type": "code",
   "execution_count": null,
   "metadata": {},
   "outputs": [],
   "source": [
    "random.expovariate(1 / 5)  # Interval between arrivals averaging 5 seconds"
   ]
  },
  {
   "cell_type": "markdown",
   "metadata": {},
   "source": [
    "## The `time` module - time access and conversion\n",
    "See also `datetime`, `calendar` modules"
   ]
  },
  {
   "cell_type": "code",
   "execution_count": null,
   "metadata": {},
   "outputs": [],
   "source": [
    "import time\n",
    "t0 = time.time()  # returns the number of seconds passed since epoch (1/1/1970 at UTC)\n",
    "t0"
   ]
  },
  {
   "cell_type": "code",
   "execution_count": null,
   "metadata": {},
   "outputs": [],
   "source": [
    "time.ctime(t0)"
   ]
  },
  {
   "cell_type": "code",
   "execution_count": null,
   "metadata": {},
   "outputs": [],
   "source": [
    "print(time.localtime(t0))  # return in named tuple\n",
    "print(time.localtime(t0).tm_min)\n",
    "print(time.localtime(t0)[3:6])"
   ]
  },
  {
   "cell_type": "code",
   "execution_count": null,
   "metadata": {},
   "outputs": [],
   "source": [
    "time.gmtime(t0)   # Greenwich Mean Time or UTC"
   ]
  },
  {
   "cell_type": "code",
   "execution_count": null,
   "metadata": {},
   "outputs": [],
   "source": [
    "time.sleep(5)   # sleep 5 seconds\n",
    "print('waken')"
   ]
  },
  {
   "cell_type": "markdown",
   "metadata": {},
   "source": [
    "## The `timeit` module\n",
    "to measure execution time of small code snippets"
   ]
  },
  {
   "cell_type": "code",
   "execution_count": null,
   "metadata": {},
   "outputs": [],
   "source": [
    "import timeit\n",
    "timeit.timeit('\"-\".join(str(n) for n in range(100))', number=10000)"
   ]
  },
  {
   "cell_type": "code",
   "execution_count": null,
   "metadata": {},
   "outputs": [],
   "source": [
    "timeit.timeit('\"-\".join([str(n) for n in range(100)])', number=10000)"
   ]
  },
  {
   "cell_type": "code",
   "execution_count": null,
   "metadata": {},
   "outputs": [],
   "source": [
    "timeit.timeit('\"-\".join(map(str, range(100)))', number=10000)"
   ]
  },
  {
   "cell_type": "markdown",
   "metadata": {},
   "source": [
    "## Three `import` statement variants"
   ]
  },
  {
   "cell_type": "code",
   "execution_count": null,
   "metadata": {
    "scrolled": true
   },
   "outputs": [],
   "source": [
    "import math\n",
    "print(math.pi)\n",
    "print(math.log(math.e))"
   ]
  },
  {
   "cell_type": "code",
   "execution_count": null,
   "metadata": {
    "scrolled": true
   },
   "outputs": [],
   "source": [
    "from math import sin, cos, pi   # import names from math module\n",
    "print(sin(pi/2))"
   ]
  },
  {
   "cell_type": "code",
   "execution_count": null,
   "metadata": {},
   "outputs": [],
   "source": [
    "from math import *\n",
    "log10(10)"
   ]
  },
  {
   "cell_type": "markdown",
   "metadata": {},
   "source": [
    "## Using 3rd party modules\n",
    "numpy와 matplotlib는 standard library에 속하지 않은 module이다. 이런 module들은 찾아서 설치해야 한다. (설치 도구 `pip` 참고)\n",
    "\n",
    "Anaconda는 유용한 3rd parth module들 수백개를 이미 포함하고 있으니, Jupyter notebook에서 바로 사용 가능하다.\n",
    "\n",
    "예: numpy와 plotting"
   ]
  },
  {
   "cell_type": "code",
   "execution_count": null,
   "metadata": {
    "scrolled": true
   },
   "outputs": [],
   "source": [
    "import numpy as np\n",
    "# x, y: numpy array\n",
    "x = np.linspace(0, 2*math.pi, 100)\n",
    "y = np.sin(x)\n",
    "x[50], y[50]"
   ]
  },
  {
   "cell_type": "code",
   "execution_count": null,
   "metadata": {
    "scrolled": false
   },
   "outputs": [],
   "source": [
    "%matplotlib inline\n",
    "import matplotlib.pyplot as plt\n",
    "plt.plot(x, y)"
   ]
  },
  {
   "cell_type": "markdown",
   "metadata": {},
   "source": [
    "## Creating your own modules\n",
    "다음 script를 파일명 `seqtools.py로`로 저장했다 하자.\n",
    "\n",
    "```Python\n",
    "def remove_at(pos, seq):\n",
    "    return seq[:pos] + seq[pos+1:]\n",
    "```\n",
    "\n",
    "그러면 이 module을 interactive Python interpreter나 여러분의 다른 script 작성 중에 같은 방법으로 사용할 수 있다."
   ]
  },
  {
   "cell_type": "code",
   "execution_count": null,
   "metadata": {},
   "outputs": [],
   "source": [
    "import seqtools\n",
    "s = \"A string\"\n",
    "seqtools.remove_at(4, s)"
   ]
  },
  {
   "cell_type": "markdown",
   "metadata": {},
   "source": [
    "> 참고: import되는 module의 loading time 단축을 위해 .pyc 파일(compiled python file)을 `__pychache__` directory 아래에 생성한다. (compile time 생략하기 위해)"
   ]
  },
  {
   "cell_type": "markdown",
   "metadata": {},
   "source": [
    "## Namespaces\n",
    "현재 notebook(또는 interpreter나 script)에서 보이는 name들은 여러분이 생성한 것이거나 import한 것들이다. ('_'로 시작하는 name들 제외)"
   ]
  },
  {
   "cell_type": "code",
   "execution_count": null,
   "metadata": {
    "scrolled": true
   },
   "outputs": [],
   "source": [
    "print([name for name in dir() if not name.startswith('_')])"
   ]
  },
  {
   "cell_type": "markdown",
   "metadata": {},
   "source": [
    "방금 import한 `seqtools`도 현재 namespace에 존재하니까, 즉 아는 name이니 이것을 access할 수 있다."
   ]
  },
  {
   "cell_type": "code",
   "execution_count": null,
   "metadata": {},
   "outputs": [],
   "source": [
    "type(seqtools)"
   ]
  },
  {
   "cell_type": "code",
   "execution_count": null,
   "metadata": {},
   "outputs": [],
   "source": [
    "print(dir(seqtools))\n",
    "type(seqtools.remove_at)"
   ]
  },
  {
   "cell_type": "markdown",
   "metadata": {},
   "source": [
    "Module 뿐 아니라 function도 자신의 namespace를 별도가 갖는다."
   ]
  },
  {
   "cell_type": "code",
   "execution_count": null,
   "metadata": {},
   "outputs": [],
   "source": [
    "print(dir(seqtools.remove_at))"
   ]
  },
  {
   "cell_type": "markdown",
   "metadata": {},
   "source": [
    "## Module은 어디서 찾을까?\n",
    "`sys.path` variable에 list로 정의된다. 여기에 포함된 것들은\n",
    "1. script 파일이 존재하는 directory\n",
    "1. standard libray 위치\n",
    "1. 3rd party module이 들어있는 site-packages directory"
   ]
  },
  {
   "cell_type": "code",
   "execution_count": null,
   "metadata": {},
   "outputs": [],
   "source": [
    "import sys   \n",
    "sys.path    # module search path (a list)"
   ]
  }
 ],
 "metadata": {
  "kernelspec": {
   "display_name": "Python 3",
   "language": "python",
   "name": "python3"
  },
  "language_info": {
   "codemirror_mode": {
    "name": "ipython",
    "version": 3
   },
   "file_extension": ".py",
   "mimetype": "text/x-python",
   "name": "python",
   "nbconvert_exporter": "python",
   "pygments_lexer": "ipython3",
   "version": "3.8.8"
  }
 },
 "nbformat": 4,
 "nbformat_minor": 2
}
