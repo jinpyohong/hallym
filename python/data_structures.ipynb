{
 "cells": [
  {
   "cell_type": "markdown",
   "metadata": {},
   "source": [
    "# Preliminary\n",
    "## Values, Types, and Expressions\n",
    "A data type is defined by:\n",
    "- a set of values (e.g. integers)\n",
    "- operations (e.g. `+ - * / // % **`)\n",
    "\n",
    "Expressions\n",
    "- 실행하면 new value, 즉 object가 생성된다.\n"
   ]
  },
  {
   "cell_type": "markdown",
   "metadata": {},
   "source": [
    "  \n",
    "***Python is typeless language***\n",
    "\n",
    "Java나 C처럼 변수 이름에 data type을 미리 선언하지 않는다. 이름은 object를 가리킬 뿐이며, 그 object의 type에 달려있다. \n",
    "  \n",
    "## Python name and refercence\n",
    "- Python object(또는 data)들은 memory에 생성되고 저장된다. \n",
    "- 각 object는 id로 유일하게 지정되어 access할 수 있으며, 또한 type을 가지고 있다. \n",
    "- Name은 object id를 가지고 있기 때문에 object를 access할 수 있다. 다시 말해, name으로 object를 reference한다.\n",
    "\n",
    "Assignment Statement의 이해\n",
    "\n",
    "1. evaluate the expression to produce a value(object)\n",
    "1. create a new name if that name doesn't exist; </br>otherwise, just reuse it.\n",
    "3. the name refers to the object\n",
    "\n",
    "![name and reference](./static/memory_model.png)"
   ]
  },
  {
   "cell_type": "markdown",
   "metadata": {},
   "source": [
    "# Data Structures\n",
    "## Built-in Data Types \n",
    "Numbers\n",
    "- int: \t255, 0xff, 0o377, 0b11111111\n",
    "- float: \t3.14159, 1.2345e-56\n",
    "- complex: \t1.5 + 2j\n",
    "\n",
    "Sequences:  순서가 있다. indexing (예: a[2]), slicing (예: a[2:5]) 가능\n",
    "- str: \t'abc', \"don't\", ''  -- immutable\n",
    "- list: \t['kim', 22, 4.3]    -- mutable\n",
    "- tuple: \t('kim', 22, 4.3)\t -- immutable\n",
    "\n",
    "Dictionaries and Sets\n",
    "- dict: \t{'name': 'kim', 'age': 22, 'grade': 4.3}\n",
    "- set: \t{'red', 'green', 'yellow'}\n",
    "\n",
    "Others\n",
    "- bool: \tTrue, False\n",
    "- None\n",
    "- file: \topen('egg.txt')\n",
    "- Program units: functions, modules, classes\n",
    "\n",
    ">모든 것이 object 이다. Data 뿐 아니라, exception, file, class, function, module도 하나의 object로 취급된다. \n",
    "## Strings"
   ]
  },
  {
   "cell_type": "code",
   "execution_count": null,
   "metadata": {},
   "outputs": [],
   "source": [
    "s = \"Hello, world!\"\n",
    "print(len(s))       # function \n",
    "print(s.count(\"l\")) # method\n",
    "print(s.find(\"world\")) # return index if found, -1 otherwise"
   ]
  },
  {
   "cell_type": "markdown",
   "metadata": {},
   "source": [
    "**Strings are immutable**\n",
    "- 변경 불가능하기 때문에 모든 string operation을 적용하면 새로운 object가 생성된다."
   ]
  },
  {
   "cell_type": "code",
   "execution_count": null,
   "metadata": {},
   "outputs": [],
   "source": [
    "hs = s.replace(\"Hello\", \"안녕\")\n",
    "print(s)\n",
    "print(hs)\n",
    "print(hs.encode(\"utf-8\"))   "
   ]
  },
  {
   "cell_type": "code",
   "execution_count": null,
   "metadata": {},
   "outputs": [],
   "source": [
    "python = \"\"\"  Python is an easy to learn, powerful programming language. \n",
    "It has efficient high-level data structures \n",
    "and a simple but effective approach to object-oriented programming. \n",
    "\"\"\"\n",
    "python"
   ]
  },
  {
   "cell_type": "code",
   "execution_count": null,
   "metadata": {},
   "outputs": [],
   "source": [
    "python.strip()       # strip leading/trailing white space"
   ]
  },
  {
   "cell_type": "code",
   "execution_count": null,
   "metadata": {
    "scrolled": true
   },
   "outputs": [],
   "source": [
    "python.split(\"\\n\")    # split with '\\n'"
   ]
  },
  {
   "cell_type": "code",
   "execution_count": null,
   "metadata": {},
   "outputs": [],
   "source": [
    "words = python.split()   # split with white space\n",
    "print(words)"
   ]
  },
  {
   "cell_type": "code",
   "execution_count": null,
   "metadata": {},
   "outputs": [],
   "source": [
    "\" \".join(words)"
   ]
  },
  {
   "cell_type": "markdown",
   "metadata": {},
   "source": [
    "For more string methods, see https://docs.python.org/ko/3/library/stdtypes.html#text-sequence-type-str"
   ]
  },
  {
   "cell_type": "markdown",
   "metadata": {},
   "source": [
    "### Formatting strings\n",
    "`format` method"
   ]
  },
  {
   "cell_type": "code",
   "execution_count": null,
   "metadata": {},
   "outputs": [],
   "source": [
    "name, age, major = '홍길동', 24, 'ICE'\n",
    "'{}의 나이는 {}이고, 전공은 {}이다.'.format(name, age, major)"
   ]
  },
  {
   "cell_type": "code",
   "execution_count": null,
   "metadata": {},
   "outputs": [],
   "source": [
    "print('{0}의 나이는 {1}이고, 전공은 {2}이다.'.format(name, age, major))"
   ]
  },
  {
   "cell_type": "code",
   "execution_count": null,
   "metadata": {},
   "outputs": [],
   "source": [
    "'{name}의 나이는 {age}이고, 전공은 {major}이다.'.format(name=name, age=age, major=major)"
   ]
  },
  {
   "cell_type": "code",
   "execution_count": null,
   "metadata": {},
   "outputs": [],
   "source": [
    "# round off\n",
    "\"One third is: {0:.3f}\".format(1/3)"
   ]
  },
  {
   "cell_type": "code",
   "execution_count": null,
   "metadata": {},
   "outputs": [],
   "source": [
    "# string alignment\n",
    "\"|{:<10}|{:^10}|{:>10}|\".format('butter','bread','ham')"
   ]
  },
  {
   "cell_type": "markdown",
   "metadata": {},
   "source": [
    "f-string (Python 3.6 이상)"
   ]
  },
  {
   "cell_type": "code",
   "execution_count": null,
   "metadata": {},
   "outputs": [],
   "source": [
    "f'{name}의 나이는 {age}이고, 전공은 {major}이다.'"
   ]
  },
  {
   "cell_type": "code",
   "execution_count": null,
   "metadata": {},
   "outputs": [],
   "source": [
    "s = 'Hello, world!'   # s <-- id('Hello, world!')\n",
    "print(id(s), type(s)) \n",
    "ss = s        # ss <-- id(s), ss가 s와 같은 object를 refer\n",
    "print(s is ss) # refer to same object? 즉, id(s) == id(ss) ?"
   ]
  },
  {
   "cell_type": "markdown",
   "metadata": {},
   "source": [
    "> `s` ==> `'Hello, world!'`  <== `ss`"
   ]
  },
  {
   "cell_type": "markdown",
   "metadata": {},
   "source": [
    "## Lists\n",
    "### Indexing"
   ]
  },
  {
   "cell_type": "code",
   "execution_count": null,
   "metadata": {},
   "outputs": [],
   "source": [
    "a = [1, 'Python', [2, '4']]\n",
    "len(a)"
   ]
  },
  {
   "cell_type": "code",
   "execution_count": null,
   "metadata": {},
   "outputs": [],
   "source": [
    "a[2][1]"
   ]
  },
  {
   "cell_type": "markdown",
   "metadata": {},
   "source": [
    "```Python\n",
    "a[3]     # IndexError!\n",
    "```"
   ]
  },
  {
   "cell_type": "code",
   "execution_count": null,
   "metadata": {},
   "outputs": [],
   "source": [
    "a[-2]"
   ]
  },
  {
   "cell_type": "markdown",
   "metadata": {},
   "source": [
    "### Slicing\n",
    "X의 slice는 X의 부분집합이다.\n",
    "\n",
    "A slice of List(tuple, string) is list(tuple, string)."
   ]
  },
  {
   "cell_type": "code",
   "execution_count": null,
   "metadata": {},
   "outputs": [],
   "source": [
    "a[1:2]"
   ]
  },
  {
   "cell_type": "code",
   "execution_count": null,
   "metadata": {},
   "outputs": [],
   "source": [
    "a[:-1]"
   ]
  },
  {
   "cell_type": "code",
   "execution_count": null,
   "metadata": {},
   "outputs": [],
   "source": [
    "a[2:2]    # empty list"
   ]
  },
  {
   "cell_type": "code",
   "execution_count": null,
   "metadata": {},
   "outputs": [],
   "source": [
    "a[:100]      # legal (범위 초과해도 무방)"
   ]
  },
  {
   "cell_type": "code",
   "execution_count": null,
   "metadata": {},
   "outputs": [],
   "source": [
    "a[0:3:2]"
   ]
  },
  {
   "cell_type": "code",
   "execution_count": null,
   "metadata": {},
   "outputs": [],
   "source": [
    "a[:]"
   ]
  },
  {
   "cell_type": "markdown",
   "metadata": {},
   "source": [
    "Slicing a list creates new sublist, but share the elements"
   ]
  },
  {
   "cell_type": "code",
   "execution_count": null,
   "metadata": {},
   "outputs": [],
   "source": [
    "celegans_markers = ['Emb', 'Him', 'Unc', 'Lon', 'Dpy', 'Sma']\n",
    "celegans_copy = celegans_markers\n",
    "celegans_markers is celegans_copy  # refer to the same object?"
   ]
  },
  {
   "cell_type": "markdown",
   "metadata": {},
   "source": [
    "![name](./static/name.png)"
   ]
  },
  {
   "cell_type": "code",
   "execution_count": null,
   "metadata": {},
   "outputs": [],
   "source": [
    "useful_markers = celegans_markers[:4]\n",
    "useful_markers"
   ]
  },
  {
   "cell_type": "markdown",
   "metadata": {},
   "source": [
    "![name1](./static/name1.png)"
   ]
  },
  {
   "cell_type": "code",
   "execution_count": null,
   "metadata": {},
   "outputs": [],
   "source": [
    "useful_markers[2] = 'Lvl'\n",
    "print(useful_markers)\n",
    "print(celegans_markers)"
   ]
  },
  {
   "cell_type": "markdown",
   "metadata": {},
   "source": [
    "### lambda expression\n",
    "보통 expression 속에 function을 정의하는데 사용된다."
   ]
  },
  {
   "cell_type": "code",
   "execution_count": null,
   "metadata": {},
   "outputs": [],
   "source": [
    "def square(x):\n",
    "    return x * x\n",
    "\n",
    "square(3)"
   ]
  },
  {
   "cell_type": "code",
   "execution_count": null,
   "metadata": {},
   "outputs": [],
   "source": [
    "square = lambda x: x*x\n",
    "square(3)"
   ]
  },
  {
   "cell_type": "markdown",
   "metadata": {},
   "source": [
    "### Sorting\n",
    "using built-in function"
   ]
  },
  {
   "cell_type": "code",
   "execution_count": null,
   "metadata": {},
   "outputs": [],
   "source": [
    "sorted(fruits)  # returns the sorted list"
   ]
  },
  {
   "cell_type": "code",
   "execution_count": null,
   "metadata": {},
   "outputs": [],
   "source": [
    "sorted('compare')   # iterables를 sorting한 결과를 list로 return"
   ]
  },
  {
   "cell_type": "markdown",
   "metadata": {},
   "source": [
    "using method"
   ]
  },
  {
   "cell_type": "code",
   "execution_count": null,
   "metadata": {},
   "outputs": [],
   "source": [
    "fruits.sort()    # modify fruits in ascending order\n",
    "fruits"
   ]
  },
  {
   "cell_type": "code",
   "execution_count": null,
   "metadata": {},
   "outputs": [],
   "source": [
    "fruits.sort(reverse=True)  # descending order\n",
    "fruits"
   ]
  },
  {
   "cell_type": "markdown",
   "metadata": {},
   "source": [
    "Sorting algorithm은 list 내의 item들을 비교하여 정렬하는 것이다. O(n*`log`n)\n",
    "```Python\n",
    "(1, 2, 3)              < (1, 2, 4)\n",
    "[1, 2, 3]              < [1, 2, 4]\n",
    "'ABC' < 'C' < 'Pascal' < 'Python'\n",
    "(1, 2, 3, 4)           < (1, 2, 4)\n",
    "(1, 2)                 < (1, 2, -1)\n",
    "(1, 2, 3)             == (1.0, 2.0, 3.0)\n",
    "(1, 2, ('aa', 'ab'))   < (1, 2, ('abc', 'a'), 4)\n",
    "```"
   ]
  },
  {
   "cell_type": "code",
   "execution_count": null,
   "metadata": {},
   "outputs": [],
   "source": [
    "students = [('john', 'A', 25),\n",
    "           ('jane', 'B', 24),\n",
    "           ('dave', 'B', 23)]\n",
    "sorted(students)"
   ]
  },
  {
   "cell_type": "markdown",
   "metadata": {},
   "source": [
    "Sorting by keys\n",
    "- key function이 정의되어 있으면, 비교할 item에 key function의 결과 값간에 비교한다."
   ]
  },
  {
   "cell_type": "code",
   "execution_count": null,
   "metadata": {},
   "outputs": [],
   "source": [
    "# 나이 순으로\n",
    "sorted(students, key=lambda x: x[2])  # x는 students의 item"
   ]
  },
  {
   "cell_type": "code",
   "execution_count": null,
   "metadata": {},
   "outputs": [],
   "source": [
    "# 나이 역순으로\n",
    "sorted(students, key=lambda x: x[2], reverse=True) "
   ]
  },
  {
   "cell_type": "code",
   "execution_count": null,
   "metadata": {},
   "outputs": [],
   "source": [
    "# (학점, 나이) 순으로\n",
    "sorted(students, key=lambda x: (x[1], x[2])) "
   ]
  },
  {
   "cell_type": "markdown",
   "metadata": {},
   "source": [
    "### List Comprehensions"
   ]
  },
  {
   "cell_type": "markdown",
   "metadata": {},
   "source": [
    "```Python\n",
    "squares = []\n",
    "for x in range(10):\n",
    "    squares.append(x**2)\n",
    "squares\n",
    "```\n",
    "\n",
    "줄이고 읽기 쉽게"
   ]
  },
  {
   "cell_type": "code",
   "execution_count": null,
   "metadata": {},
   "outputs": [],
   "source": [
    "squares = [x**2 for x in range(10)]\n",
    "squares"
   ]
  },
  {
   "cell_type": "markdown",
   "metadata": {},
   "source": [
    "```Python\n",
    "combs = []\n",
    "for x in [1,2,3]:\n",
    "    for y in [3,1,4]:\n",
    "        if x != y:\n",
    "            combs.append((x, y))\n",
    "combs\n",
    "```"
   ]
  },
  {
   "cell_type": "code",
   "execution_count": null,
   "metadata": {},
   "outputs": [],
   "source": [
    "[(x, y) for x in [1,2,3] for y in [3,1,4] if x != y]"
   ]
  },
  {
   "cell_type": "code",
   "execution_count": null,
   "metadata": {},
   "outputs": [],
   "source": [
    "from math import pi\n",
    "[str(round(pi, i)) for i in range(1, 6)]"
   ]
  },
  {
   "cell_type": "markdown",
   "metadata": {},
   "source": [
    "`zip` function"
   ]
  },
  {
   "cell_type": "code",
   "execution_count": null,
   "metadata": {},
   "outputs": [],
   "source": [
    "list(zip(['one', 'two', 'three'], [1, 2, 3]))"
   ]
  },
  {
   "cell_type": "code",
   "execution_count": null,
   "metadata": {
    "scrolled": true
   },
   "outputs": [],
   "source": [
    "list(zip(['one', 'two', 'three'], ['하나', '둘', '셋'], [1, 2, 3, 4, 5]))"
   ]
  },
  {
   "cell_type": "code",
   "execution_count": null,
   "metadata": {},
   "outputs": [],
   "source": [
    "questions = ['name', 'quest', 'favorite color']\n",
    "answers = ['lancelot', 'the holy grail', 'blue']\n",
    "for q, a in zip(questions, answers):\n",
    "    print('What is your {0}?  It is {1}.'.format(q, a))"
   ]
  },
  {
   "cell_type": "markdown",
   "metadata": {},
   "source": [
    "## Dictionaries\n",
    "Constuction alternatives"
   ]
  },
  {
   "cell_type": "code",
   "execution_count": null,
   "metadata": {},
   "outputs": [],
   "source": [
    "a = {'one': 1,  'two': 2, 'three': 3}\n",
    "b = dict(one=1, two=2, three=3)\n",
    "c = dict([('one', 1), ('two', 2), ('three', 3)])\n",
    "d = dict(zip(['one', 'two', 'three'], [1, 2, 3]))\n",
    "a == b == c == d"
   ]
  },
  {
   "cell_type": "markdown",
   "metadata": {},
   "source": [
    "### dict comprehensions"
   ]
  },
  {
   "cell_type": "code",
   "execution_count": null,
   "metadata": {},
   "outputs": [],
   "source": [
    "{x: x**2 for x in (2, 4, 6)}"
   ]
  },
  {
   "cell_type": "markdown",
   "metadata": {},
   "source": [
    "### set comprehensions"
   ]
  },
  {
   "cell_type": "code",
   "execution_count": null,
   "metadata": {},
   "outputs": [],
   "source": [
    "print(fruits)"
   ]
  },
  {
   "cell_type": "markdown",
   "metadata": {},
   "source": [
    "## Looping techniques"
   ]
  },
  {
   "cell_type": "code",
   "execution_count": null,
   "metadata": {},
   "outputs": [],
   "source": [
    "print(a)\n",
    "'one' in a"
   ]
  },
  {
   "cell_type": "code",
   "execution_count": null,
   "metadata": {},
   "outputs": [],
   "source": [
    "for key in a:\n",
    "    print(key)"
   ]
  },
  {
   "cell_type": "code",
   "execution_count": null,
   "metadata": {},
   "outputs": [],
   "source": [
    "for key, value in a.items():\n",
    "    print(key, value, sep=': ')"
   ]
  },
  {
   "cell_type": "code",
   "execution_count": null,
   "metadata": {},
   "outputs": [],
   "source": [
    "sorted(a)"
   ]
  },
  {
   "cell_type": "code",
   "execution_count": null,
   "metadata": {},
   "outputs": [],
   "source": [
    "sorted(a.items(), key=lambda x: x[1])"
   ]
  },
  {
   "cell_type": "markdown",
   "metadata": {},
   "source": [
    "### Playing cards"
   ]
  },
  {
   "cell_type": "code",
   "execution_count": null,
   "metadata": {},
   "outputs": [],
   "source": [
    "import random         # random.py script file\n",
    "\n",
    "suits = ('Club', 'Diamond', 'Heart','Spade')\n",
    "ranks = ('2', '3', '4', '5', '6', '7', '8', '9', '10', \n",
    "        'Jack', 'Queen', 'King', 'Ace')  # in ascending order\n",
    "values = dict(zip(ranks, range(2, 2 + len(ranks))))\n",
    "print(values)\n",
    "\n",
    "deck = [(s, r) for s in suits for r in ranks] # a deck of cards\n",
    "random.shuffle(deck)  # call shuffle function in the random module\n",
    "print(deck)"
   ]
  },
  {
   "cell_type": "code",
   "execution_count": null,
   "metadata": {
    "scrolled": true
   },
   "outputs": [],
   "source": [
    "# compare cards\n",
    "card_a = deck.pop()\n",
    "card_b = deck.pop()\n",
    "print(f'{card_a} wins {card_b} ?')\n",
    "print(values[card_a[1]] > values[card_b[1]])"
   ]
  },
  {
   "cell_type": "code",
   "execution_count": null,
   "metadata": {},
   "outputs": [],
   "source": [
    "# Get 5 cards from the deck\n",
    "my_hand = []\n",
    "your_hand = []\n",
    "for i in range(5):\n",
    "    my_hand.append(deck.pop())\n",
    "    your_hand.append(deck.pop())\n",
    "\n",
    "# rearrange my cards in descending order\n",
    "my_hand.sort(key=lambda x: values[x[1]], reverse=True)\n",
    "your_hand.sort(key=lambda x: values[x[1]], reverse=True)\n",
    "print('Who wins in Poker game ?', my_hand, 'vs', your_hand, sep='\\n')"
   ]
  }
 ],
 "metadata": {
  "kernelspec": {
   "display_name": "Python 3",
   "language": "python",
   "name": "python3"
  },
  "language_info": {
   "codemirror_mode": {
    "name": "ipython",
    "version": 3
   },
   "file_extension": ".py",
   "mimetype": "text/x-python",
   "name": "python",
   "nbconvert_exporter": "python",
   "pygments_lexer": "ipython3",
   "version": "3.10.9"
  }
 },
 "nbformat": 4,
 "nbformat_minor": 2
}
