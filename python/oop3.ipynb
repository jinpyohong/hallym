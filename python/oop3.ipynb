{
 "cells": [
  {
   "cell_type": "markdown",
   "metadata": {},
   "source": [
    "# Object-Oriented Programming (III)"
   ]
  },
  {
   "cell_type": "markdown",
   "metadata": {},
   "source": [
    "## Class Interface Techniques\n",
    "#### Abstact class\n",
    "일부가 미구현 된 method(**abstract method**)가 존재한다. Class instance를 만들어 사용하려는 목적이 아니라 상속할 틀을 만드는 super class를 말한다.  \n",
    "\n",
    "Abstract class는 \n",
    "- 구현은 subclass에게 위임한다. \n",
    "- 후손이 동일한 interface를 유지하기 위한 목적."
   ]
  },
  {
   "cell_type": "code",
   "execution_count": null,
   "metadata": {},
   "outputs": [],
   "source": [
    "class Super:\n",
    "    \"\"\"An abstract class\n",
    "    to be implemented later\"\"\"\n",
    "    def method(self):\n",
    "        print('in Super.method') # Default behavior\n",
    "    def delegate(self):\n",
    "        self.action()            \n",
    "    def action(self):            # Not implement at this moment\n",
    "        raise NotImplementedError('action: not implemented')\n",
    "\n",
    "s = Super()\n",
    "s.method()\n",
    "# s.delegate()   # Error"
   ]
  },
  {
   "cell_type": "markdown",
   "metadata": {},
   "source": [
    "#### 상속자\n",
    "조상으로 부터 모든 attribute과 method를 상속받아 사용한다. \n",
    "- 본인이 이룬게 없다. 모든 것이 조상 덕..."
   ]
  },
  {
   "cell_type": "code",
   "execution_count": null,
   "metadata": {},
   "outputs": [],
   "source": [
    "class Inheritor(Super):\n",
    "    pass\n",
    "\n",
    "i = Inheritor()\n",
    "i.method()  # call super method"
   ]
  },
  {
   "cell_type": "markdown",
   "metadata": {},
   "source": [
    "#### 대체자\n",
    "조상으로 부터 상속 받되 일부 method는 대체한다. \n",
    "- 조상의 method를 자손이 완전히 Override."
   ]
  },
  {
   "cell_type": "code",
   "execution_count": null,
   "metadata": {},
   "outputs": [],
   "source": [
    "class Replacer(Super):\n",
    "    def method(self):\n",
    "        print('in Replace.method')\n",
    "\n",
    "r = Replacer()\n",
    "s = Super()\n",
    "for obj in (r, s):\n",
    "    obj.method()"
   ]
  },
  {
   "cell_type": "markdown",
   "metadata": {},
   "source": [
    "#### 확장자\n",
    "조상으로 부터 상속받은 method를 활용하되 더 확장하여 발전시킨다.\n",
    "- 조상 method를 이용하지만, 확장하여 override"
   ]
  },
  {
   "cell_type": "code",
   "execution_count": null,
   "metadata": {},
   "outputs": [],
   "source": [
    "class Extender(Super):\n",
    "    def method(self):\n",
    "        print('Starting Extender.method')\n",
    "        Super.method(self)\n",
    "#         super().method()   # super() returns super class instance\n",
    "        print('ending Extender.method')\n",
    "\n",
    "e = Extender()\n",
    "e.method()"
   ]
  },
  {
   "cell_type": "markdown",
   "metadata": {},
   "source": [
    "#### 제공자\n",
    "조상(abstact class)이 이루지 못한(구현을 위임한) method를 구현하여 제공한다.\n",
    "- implementing `delegate` method by providing `action` method"
   ]
  },
  {
   "cell_type": "code",
   "execution_count": null,
   "metadata": {},
   "outputs": [],
   "source": [
    "class Provider(Super):\n",
    "    def action(self):\n",
    "        print('in Provider.action')\n",
    "        \n",
    "p = Provider()\n",
    "p.method()\n",
    "p.delegate()"
   ]
  },
  {
   "cell_type": "markdown",
   "metadata": {},
   "source": [
    "참고: **Polymorphism (다형성)**\n",
    "> 하나의 interface를 통해 서로 다른 여러 타입을 제공하는 것을 의미한다.<br> \n",
    "> 보통 OOP 에서 말하는 다형성은 클래스에 선언된 method가 subclass에서 같은 이름으로 **overriding** 되어 여러 형태로 동작함을 의미한다."
   ]
  },
  {
   "cell_type": "markdown",
   "metadata": {},
   "source": [
    "주의:  **function overloading in Python**\n",
    "> C나 Java에서는 function signature(function name, parameter type과 갯수)가 다르면\n",
    "다른 function이다. 다시 말해, function name을 같이 사용하지만 사실은 언어적으로\n",
    "다른 function (signature)인 것이다. \n",
    "\n",
    "Python에서 다음과 같이 적으면 meth는 마지막 define한 meth만 유효 뿐이다.\n",
    "\n",
    "```Python\n",
    "class C:\n",
    "    def meth(self, x):\n",
    "        ...\n",
    "    def meth(self, x, y, z):  # 이것이 유효하다.\n",
    "        ...\n",
    "\n",
    "c = C()\n",
    "c.meth(1)        #  TypeError. 파라미터 y, z가 없다.   \n",
    "c.meth(1, 2, 3)  # OK\n",
    "```\n",
    "\n",
    "1) Default argument value로 쓰거나 \n",
    "```Python\n",
    "    def meth(self, x, y=0, z=None)\n",
    "```\n",
    "2) 다음과 같이 Variable argument list로 받아야 한다."
   ]
  },
  {
   "cell_type": "code",
   "execution_count": null,
   "metadata": {},
   "outputs": [],
   "source": [
    "#Use variable arguments list, instead.\n",
    "class C:\n",
    "    def meth(self, *args):\n",
    "        print(args)\n",
    "        for arg in args:\n",
    "            if isinstance(arg, int):\n",
    "                print(f'{arg}: handle int')\n",
    "            elif isinstance(arg, str):\n",
    "                print(f'{arg}: handle str')\n",
    "                           \n",
    "c = C()\n",
    "c.meth(1, 'a', 'b')"
   ]
  },
  {
   "cell_type": "markdown",
   "metadata": {},
   "source": [
    "### A stream processor"
   ]
  },
  {
   "cell_type": "code",
   "execution_count": null,
   "metadata": {},
   "outputs": [],
   "source": [
    "from abc import ABCMeta, abstractmethod\n",
    "\n",
    "# Abstract class\n",
    "class Processor(metaclass=ABCMeta):\n",
    "    def __init__(self, reader, writer):\n",
    "        self.reader = reader\n",
    "        self.writer = writer\n",
    "    \n",
    "    def process(self):\n",
    "        for line in self.reader:\n",
    "            data = self.converter(line)\n",
    "            self.writer.write(data)\n",
    "    \n",
    "    @abstractmethod        \n",
    "    def converter(self, data):       # delegates implementation\n",
    "        raise NotImplemented('converter must be defined')"
   ]
  },
  {
   "cell_type": "code",
   "execution_count": null,
   "metadata": {},
   "outputs": [],
   "source": [
    "# Provider overriding converter()\n",
    "class UpperCase(Processor):\n",
    "    def converter(self, data):\n",
    "        return data.upper()\n",
    "    \n",
    "class ToKorean(Processor):\n",
    "    korean_dict = {'a': '하나의', 'abacus': '곁눈질', \n",
    "                   'abandon': '버리다', 'abandonment': '포기' }\n",
    "    def converter(self, data):\n",
    "        return ToKorean.korean_dict.get(data.strip(), \"<unknown>\") + '\\n'\n",
    "    \n",
    "import sys, io\n",
    "\n",
    "buf = '\\n'.join(['a', 'abacus', 'abandon', 'abandoned']) + '\\n'\n",
    "file = io.StringIO(buf)   # file-like object in memory buffer\n",
    "upper = UpperCase(file, sys.stdout)\n",
    "upper.process()\n",
    "\n",
    "file.seek(0)        # rewind the file\n",
    "capital = ToKorean(file, sys.stdout)\n",
    "capital.process()"
   ]
  },
  {
   "cell_type": "markdown",
   "metadata": {},
   "source": [
    "### Example: Extending Types by Embedding\n",
    "list object을 이용하여 `Set` class 만들기"
   ]
  },
  {
   "cell_type": "code",
   "execution_count": null,
   "metadata": {
    "scrolled": true
   },
   "outputs": [],
   "source": [
    "class Set:\n",
    "    def __init__(self, value = []):    # Constructor\n",
    "        self.data = []                 # Manages a list\n",
    "        self.concat(value)\n",
    "\n",
    "    def intersection(self, other):        # other is any sequence\n",
    "        res = []                       # self is the subject\n",
    "        for x in self.data:\n",
    "            if x in other:             # Pick common items\n",
    "                res.append(x)\n",
    "        return Set(res)                # Return a new Set\n",
    "\n",
    "    def union(self, other):            # other is any sequence\n",
    "        res = self.data[:]             # Copy of my list\n",
    "        for x in other:                # Add items in other\n",
    "            if not x in res:\n",
    "                res.append(x)\n",
    "        return Set(res)\n",
    "\n",
    "    def concat(self, value):\n",
    "        for x in value:                \n",
    "            if not x in self.data:     # Removes duplicates\n",
    "                self.data.append(x)\n",
    "\n",
    "    def __len__(self):          return len(self.data)        # len(self)\n",
    "    def __getitem__(self, key): return self.data[key]        # self[i], self[i:j]\n",
    "    def __and__(self, other):   return self.intersection(other) # self & other\n",
    "    def __or__(self, other):    return self.union(other)     # self | other\n",
    "    def __repr__(self):         return 'Set({})'.format(repr(self.data))  \n",
    "    def __iter__(self):         return iter(self.data)       # for x in self:\n",
    "\n",
    "    \n",
    "x = Set([1,3,5,7, 1, 3])\n",
    "y = Set([2,1,4,5,6])\n",
    "print(x, y, len(x))\n",
    "print(x.intersection(y), y.union(x))\n",
    "print(x & y, x | y)\n",
    "print(x[2], y[:2])\n",
    "for element in x:\n",
    "    print(element, end=' ')\n",
    "print()\n",
    "print(3 not in y)  # membership test\n",
    "print(list(x))   # convert to list because x is iterable"
   ]
  },
  {
   "cell_type": "markdown",
   "metadata": {},
   "source": [
    "## Exercise. Set class에 methods 추가\n",
    "Python `set` type에 쓰이는 다음의 method나 operator를 Set class에 추가하고, `set` 처럼 쓰이는지 시험하라.\n",
    "\n",
    "self.issubset(other)\n",
    "\n",
    "self <= other\n",
    "> Test whether every element in the set is in other.\n",
    "\n",
    "self < other\n",
    "> Test whether the set is a proper subset of other, that is, set <= other and set != other.\n",
    "\n",
    "self.issuperset(other)\n",
    "\n",
    "self >= other\n",
    "> Test whether every element in other is in the set.\n",
    "\n",
    "self > other\n",
    "\n",
    ">Test whether the set is a proper superset of other, that is, set >= other and set != other.\n",
    "\n",
    "self |= other\n",
    "> Update the set, adding elements from all others.\n",
    "\n",
    "self.intersection_update(others)\n",
    "\n",
    "self &= other\n",
    "> Update the set, keeping only elements found in it and all others.\n",
    "\n",
    "self.difference_update(others)\n",
    "\n",
    "self -= other\n",
    "> Update the set, removing elements found in others.\n",
    "\n",
    "self.symmetric_difference_update(other)\n",
    "\n",
    "self ^= other\n",
    "> Update the set, keeping only elements found in either set, but not in both.\n",
    "\n",
    "self.add(elem)\n",
    "\n",
    "> Add element elem to the set.\n",
    "\n",
    "self.remove(elem)\n",
    "\n",
    "> Remove element elem from the set. Raises KeyError if elem is not contained in the set."
   ]
  }
 ],
 "metadata": {
  "kernelspec": {
   "display_name": "Python 3",
   "language": "python",
   "name": "python3"
  },
  "language_info": {
   "codemirror_mode": {
    "name": "ipython",
    "version": 3
   },
   "file_extension": ".py",
   "mimetype": "text/x-python",
   "name": "python",
   "nbconvert_exporter": "python",
   "pygments_lexer": "ipython3",
   "version": "3.7.3"
  }
 },
 "nbformat": 4,
 "nbformat_minor": 2
}
